{
 "cells": [
  {
   "cell_type": "code",
   "execution_count": 1,
   "metadata": {},
   "outputs": [],
   "source": [
    "%load_ext autoreload\n",
    "%autoreload 2"
   ]
  },
  {
   "cell_type": "code",
   "execution_count": 2,
   "metadata": {},
   "outputs": [],
   "source": [
    "import json\n",
    "import random\n",
    "import datetime as dt\n",
    "import requests as rq\n",
    "import pandas as pd\n",
    "\n",
    "from job_client_graphql import Client\n",
    "from jupyter_cell_display import CellDisplay"
   ]
  },
  {
   "cell_type": "markdown",
   "metadata": {},
   "source": [
    "### Launch\n",
    "+ **JOB**: Jupyter ObservableHQ bridge  \n",
    "    see. [https://jupyter-observablehq-bridge/job-server-js-graphql](TBD)"
   ]
  },
  {
   "cell_type": "code",
   "execution_count": 3,
   "metadata": {},
   "outputs": [],
   "source": [
    "s = Client(host='localhost',\n",
    "           port=4001,\n",
    "           path='/graphql',\n",
    "           channel='channel-1',\n",
    "           password='mysecret',\n",
    "           debug=False)"
   ]
  },
  {
   "cell_type": "code",
   "execution_count": 4,
   "metadata": {},
   "outputs": [
    {
     "name": "stdout",
     "output_type": "stream",
     "text": [
      "nb lines = 8618\n"
     ]
    }
   ],
   "source": [
    "url = 'https://raw.githubusercontent.com/ag-grid/ag-grid/master/grid-packages/ag-grid-docs/src/olympicWinnersSmall.json'\n",
    "data = json.loads(rq.get(url).text)\n",
    "print(f'nb lines = {len(data)}')\n"
   ]
  },
  {
   "cell_type": "code",
   "execution_count": 5,
   "metadata": {},
   "outputs": [
    {
     "name": "stdout",
     "output_type": "stream",
     "text": [
      "<class 'pandas.core.frame.DataFrame'>\n",
      "RangeIndex: 8618 entries, 0 to 8617\n",
      "Data columns (total 10 columns):\n",
      "age        8613 non-null float64\n",
      "athlete    8618 non-null object\n",
      "bronze     8618 non-null int64\n",
      "country    8618 non-null object\n",
      "date       8618 non-null object\n",
      "gold       8618 non-null int64\n",
      "silver     8618 non-null int64\n",
      "sport      8618 non-null object\n",
      "total      8618 non-null int64\n",
      "year       8618 non-null int64\n",
      "dtypes: float64(1), int64(5), object(4)\n",
      "memory usage: 673.4+ KB\n"
     ]
    }
   ],
   "source": [
    "df = pd.DataFrame(data)\n",
    "df.info()"
   ]
  },
  {
   "cell_type": "code",
   "execution_count": null,
   "metadata": {},
   "outputs": [],
   "source": []
  },
  {
   "cell_type": "markdown",
   "metadata": {},
   "source": [
    "## Write"
   ]
  },
  {
   "cell_type": "code",
   "execution_count": 34,
   "metadata": {},
   "outputs": [],
   "source": [
    "def build_grid_options(df):\n",
    "    col_defs = [{'field': c} for c in df.columns]\n",
    "    grid_options = {\n",
    "        'columnDefs': col_defs,\n",
    "        'defaultColDef': {\n",
    "            'editable': True,\n",
    "            'sortable': True,\n",
    "            'filter': True,\n",
    "            'resizable': True\n",
    "        },\n",
    "        'rowSelection': 'single',\n",
    "        'rowData': df.iloc[:100, :].to_dict(orient='records'),\n",
    "    }\n",
    "    return grid_options\n"
   ]
  },
  {
   "cell_type": "code",
   "execution_count": 35,
   "metadata": {},
   "outputs": [
    {
     "data": {
      "text/plain": [
       "True"
      ]
     },
     "execution_count": 35,
     "metadata": {},
     "output_type": "execute_result"
    }
   ],
   "source": [
    "grid_options = build_grid_options(df)\n",
    "s.write('grid', json.dumps({'gridOptions': grid_options}))"
   ]
  },
  {
   "cell_type": "code",
   "execution_count": null,
   "metadata": {},
   "outputs": [],
   "source": []
  },
  {
   "cell_type": "markdown",
   "metadata": {},
   "source": [
    "## Open ObservableHQ notebook"
   ]
  },
  {
   "cell_type": "code",
   "execution_count": 36,
   "metadata": {},
   "outputs": [
    {
     "name": "stdout",
     "output_type": "stream",
     "text": [
      "Open: https://observablehq.com/d/9f2dfe3d673a3979?host=localhost&port=4001&path=/graphql\n"
     ]
    }
   ],
   "source": [
    "url_nb = 'https://observablehq.com/d/9f2dfe3d673a3979'\n",
    "url = url_nb+s.url_params\n",
    "print(f'Open: {url}')"
   ]
  },
  {
   "cell_type": "code",
   "execution_count": null,
   "metadata": {},
   "outputs": [],
   "source": []
  },
  {
   "cell_type": "markdown",
   "metadata": {},
   "source": [
    "## Subscribe"
   ]
  },
  {
   "cell_type": "markdown",
   "metadata": {},
   "source": [
    "### DISPLAY"
   ]
  },
  {
   "cell_type": "code",
   "execution_count": 41,
   "metadata": {},
   "outputs": [
    {
     "data": {
      "text/plain": [
       "\n",
       "received on channel-1: clicked --> {\"age\":21,\"athlete\":\"Natalie Coughlin\",\"bronze\":1,\"country\":\"United States\",\"date\":\"29/08/2004\",\"gold\":2,\"silver\":2,\"sport\":\"Swimming\",\"total\":5,\"year\":2004} (21:52:41.65)\n",
       "received on channel-1: clicked --> {\"age\":26,\"athlete\":\"Cindy Klassen\",\"bronze\":2,\"country\":\"Canada\",\"date\":\"26/02/2006\",\"gold\":1,\"silver\":2,\"sport\":\"Speed Skating\",\"total\":5,\"year\":2006} (21:52:44.08)\n",
       "received on channel-1: clicked --> {\"age\":21,\"athlete\":\"Natalie Coughlin\",\"bronze\":1,\"country\":\"United States\",\"date\":\"29/08/2004\",\"gold\":2,\"silver\":2,\"sport\":\"Swimming\",\"total\":5,\"year\":2004} (21:52:45.82)\n",
       "received on channel-1: clicked --> {\"age\":22,\"athlete\":\"Allison Schmitt\",\"bronze\":1,\"country\":\"United States\",\"date\":\"12/08/2012\",\"gold\":3,\"silver\":1,\"sport\":\"Swimming\",\"total\":5,\"year\":2012} (21:52:49.14)\n",
       "received on channel-1: clicked --> {'age': 22, 'athlete': 'Allison Schmitt', 'bronze': 1, 'country': 'United States', 'date': '12/08/2012', 'gold': 3, 'silver': 1, 'sport': 'Swimming', 'total': 5, 'year': 2012} (21:53:07.01)"
      ]
     },
     "metadata": {},
     "output_type": "display_data"
    }
   ],
   "source": [
    "out = CellDisplay(name='subscribe-status', max_lines=8)\n",
    "show_lines = []\n",
    "\n",
    "def show(channel, name, value):\n",
    "    ts = dt.datetime.now().strftime('%H:%M:%S.%f')[:-4]\n",
    "    s = f'received on {channel}: {name} --> {json.loads(value)} ({ts})'\n",
    "    out.update(s, kind='text', append=True)"
   ]
  },
  {
   "cell_type": "code",
   "execution_count": 42,
   "metadata": {},
   "outputs": [
    {
     "data": {
      "text/plain": [
       "\n",
       "received on channel-1: clicked --> {\"age\":21,\"athlete\":\"Natalie Coughlin\",\"bronze\":1,\"country\":\"United States\",\"date\":\"29/08/2004\",\"gold\":2,\"silver\":2,\"sport\":\"Swimming\",\"total\":5,\"year\":2004} (21:52:41.65)\n",
       "received on channel-1: clicked --> {\"age\":26,\"athlete\":\"Cindy Klassen\",\"bronze\":2,\"country\":\"Canada\",\"date\":\"26/02/2006\",\"gold\":1,\"silver\":2,\"sport\":\"Speed Skating\",\"total\":5,\"year\":2006} (21:52:44.08)\n",
       "received on channel-1: clicked --> {\"age\":21,\"athlete\":\"Natalie Coughlin\",\"bronze\":1,\"country\":\"United States\",\"date\":\"29/08/2004\",\"gold\":2,\"silver\":2,\"sport\":\"Swimming\",\"total\":5,\"year\":2004} (21:52:45.82)\n",
       "received on channel-1: clicked --> {\"age\":22,\"athlete\":\"Allison Schmitt\",\"bronze\":1,\"country\":\"United States\",\"date\":\"12/08/2012\",\"gold\":3,\"silver\":1,\"sport\":\"Swimming\",\"total\":5,\"year\":2012} (21:52:49.14)\n",
       "received on channel-1: clicked --> {'age': 22, 'athlete': 'Allison Schmitt', 'bronze': 1, 'country': 'United States', 'date': '12/08/2012', 'gold': 3, 'silver': 1, 'sport': 'Swimming', 'total': 5, 'year': 2012} (21:53:07.01)"
      ]
     },
     "metadata": {},
     "output_type": "display_data"
    }
   ],
   "source": [
    "out.display()"
   ]
  },
  {
   "cell_type": "markdown",
   "metadata": {},
   "source": [
    "### START"
   ]
  },
  {
   "cell_type": "code",
   "execution_count": 43,
   "metadata": {},
   "outputs": [],
   "source": [
    "ref = s.subscribe(action=show)"
   ]
  },
  {
   "cell_type": "markdown",
   "metadata": {},
   "source": [
    "### STOP"
   ]
  },
  {
   "cell_type": "code",
   "execution_count": 44,
   "metadata": {},
   "outputs": [
    {
     "name": "stdout",
     "output_type": "stream",
     "text": [
      "subscribe ref 6nroIi stopped\n"
     ]
    }
   ],
   "source": [
    "s.subscribe_stop(ref)"
   ]
  },
  {
   "cell_type": "code",
   "execution_count": null,
   "metadata": {},
   "outputs": [],
   "source": []
  },
  {
   "cell_type": "markdown",
   "metadata": {},
   "source": [
    "## Read"
   ]
  },
  {
   "cell_type": "code",
   "execution_count": 45,
   "metadata": {},
   "outputs": [
    {
     "data": {
      "text/plain": [
       "'{\"age\":22,\"athlete\":\"Allison Schmitt\",\"bronze\":1,\"country\":\"United States\",\"date\":\"12/08/2012\",\"gold\":3,\"silver\":1,\"sport\":\"Swimming\",\"total\":5,\"year\":2012}'"
      ]
     },
     "execution_count": 45,
     "metadata": {},
     "output_type": "execute_result"
    }
   ],
   "source": [
    "name = 'clicked'\n",
    "s.read(name)"
   ]
  },
  {
   "cell_type": "code",
   "execution_count": null,
   "metadata": {},
   "outputs": [],
   "source": []
  },
  {
   "cell_type": "markdown",
   "metadata": {},
   "source": [
    "## Read w/ Histo"
   ]
  },
  {
   "cell_type": "code",
   "execution_count": 46,
   "metadata": {},
   "outputs": [
    {
     "data": {
      "text/plain": [
       "[{'value': '{\"age\":22,\"athlete\":\"Allison Schmitt\",\"bronze\":1,\"country\":\"United States\",\"date\":\"12/08/2012\",\"gold\":3,\"silver\":1,\"sport\":\"Swimming\",\"total\":5,\"year\":2012}',\n",
       "  'timestamp': datetime.datetime(2020, 4, 14, 19, 52, 49, 140000)},\n",
       " {'value': '{\"age\":21,\"athlete\":\"Natalie Coughlin\",\"bronze\":1,\"country\":\"United States\",\"date\":\"29/08/2004\",\"gold\":2,\"silver\":2,\"sport\":\"Swimming\",\"total\":5,\"year\":2004}',\n",
       "  'timestamp': datetime.datetime(2020, 4, 14, 19, 52, 45, 823000)},\n",
       " {'value': '{\"age\":26,\"athlete\":\"Cindy Klassen\",\"bronze\":2,\"country\":\"Canada\",\"date\":\"26/02/2006\",\"gold\":1,\"silver\":2,\"sport\":\"Speed Skating\",\"total\":5,\"year\":2006}',\n",
       "  'timestamp': datetime.datetime(2020, 4, 14, 19, 52, 44, 79000)},\n",
       " {'value': '{\"age\":21,\"athlete\":\"Natalie Coughlin\",\"bronze\":1,\"country\":\"United States\",\"date\":\"29/08/2004\",\"gold\":2,\"silver\":2,\"sport\":\"Swimming\",\"total\":5,\"year\":2004}',\n",
       "  'timestamp': datetime.datetime(2020, 4, 14, 19, 52, 41, 658000)}]"
      ]
     },
     "execution_count": 46,
     "metadata": {},
     "output_type": "execute_result"
    }
   ],
   "source": [
    "name = 'clicked'\n",
    "s.read_histo(name, 4, timestamp=True)"
   ]
  },
  {
   "cell_type": "code",
   "execution_count": null,
   "metadata": {},
   "outputs": [],
   "source": []
  },
  {
   "cell_type": "markdown",
   "metadata": {},
   "source": [
    "## Store"
   ]
  },
  {
   "cell_type": "code",
   "execution_count": 47,
   "metadata": {},
   "outputs": [
    {
     "data": {
      "text/plain": [
       "{'channel-1': {'clicked': '{\"age\":22,\"athlete\":\"Allison Schmitt\",\"bronze\":1,\"country\":\"United States\",\"date\":\"12/08/2012\",\"gold\":3,\"silver\":1,\"sport\":\"Swimming\",\"total\":5,\"year\":2012}'}}"
      ]
     },
     "execution_count": 47,
     "metadata": {},
     "output_type": "execute_result"
    }
   ],
   "source": [
    "s.store"
   ]
  },
  {
   "cell_type": "code",
   "execution_count": null,
   "metadata": {},
   "outputs": [],
   "source": []
  },
  {
   "cell_type": "code",
   "execution_count": null,
   "metadata": {},
   "outputs": [],
   "source": []
  },
  {
   "cell_type": "code",
   "execution_count": null,
   "metadata": {},
   "outputs": [],
   "source": []
  },
  {
   "cell_type": "code",
   "execution_count": null,
   "metadata": {},
   "outputs": [],
   "source": []
  }
 ],
 "metadata": {
  "kernelspec": {
   "display_name": "work",
   "language": "python",
   "name": "work"
  },
  "language_info": {
   "codemirror_mode": {
    "name": "ipython",
    "version": 3
   },
   "file_extension": ".py",
   "mimetype": "text/x-python",
   "name": "python",
   "nbconvert_exporter": "python",
   "pygments_lexer": "ipython3",
   "version": "3.8.1"
  }
 },
 "nbformat": 4,
 "nbformat_minor": 4
}
