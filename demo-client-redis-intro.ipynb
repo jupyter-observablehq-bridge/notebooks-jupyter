{
 "cells": [
  {
   "cell_type": "code",
   "execution_count": 1,
   "metadata": {},
   "outputs": [],
   "source": [
    "%load_ext autoreload\n",
    "%autoreload 2"
   ]
  },
  {
   "cell_type": "code",
   "execution_count": 3,
   "metadata": {},
   "outputs": [],
   "source": [
    "import random\n",
    "import datetime as dt\n",
    "\n",
    "from job_client_redis import Client, CellDisplay"
   ]
  },
  {
   "cell_type": "markdown",
   "metadata": {},
   "source": [
    "### Launch\n",
    "+ **JOB**: Jupyter ObservableHQ bridge  \n",
    "    see. [https://jupyter-observablehq-bridge/job-server-js-graphql](TBD)\n",
    "+ **Simulator**: `yarn sim` Pushing random data to JOB  \n",
    "    See [https://jupyter-observablehq-bridge/job-server-js-graphql](TBD)\n",
    "\n"
   ]
  },
  {
   "cell_type": "code",
   "execution_count": 4,
   "metadata": {},
   "outputs": [],
   "source": [
    "pages = {\n",
    "    'demo-intro': 'https://observablehq.com/d/35986e2e25619d6e',\n",
    "}"
   ]
  },
  {
   "cell_type": "code",
   "execution_count": 5,
   "metadata": {},
   "outputs": [],
   "source": [
    "s = Client(server_url='http://localhost:4000/graphql',\n",
    "           redis_host='localhost',\n",
    "           redis_port='6479',\n",
    "           default_channel='channel-1',\n",
    "           password='mysecret',\n",
    "           pages=pages,         \n",
    "           debug=False)"
   ]
  },
  {
   "cell_type": "code",
   "execution_count": null,
   "metadata": {},
   "outputs": [],
   "source": []
  },
  {
   "cell_type": "code",
   "execution_count": 6,
   "metadata": {},
   "outputs": [],
   "source": [
    "# print(s.build_url('demo-intro'))"
   ]
  },
  {
   "cell_type": "code",
   "execution_count": 7,
   "metadata": {},
   "outputs": [
    {
     "data": {
      "text/html": [
       "\n",
       "        <div style=\"display: flex; align-items: center\">\n",
       "            <div style=\"\n",
       "        margin-right: 20px;;\n",
       "        \">Page <span style=\"color:red;\">DEMO-INTRO</span></div>\n",
       "            <button style=\"\n",
       "        background-color:light-grey;\n",
       "        width: 200px;\n",
       "        \n",
       "        margin-right: 20px;;\n",
       "        \" onclick=\"window.open('https://observablehq.com/d/35986e2e25619d6e?host=localhost&port=4000&path=/graphql&ssl=False&channel=channel-1', '_blank'); return false;\">Open in new tab</button>\n",
       "            <button style=\"\n",
       "        background-color:light-grey;\n",
       "        width: 200px;\n",
       "        \" onclick=\"\n",
       "            const el = document.createElement('textarea');\n",
       "            el.value = `https://observablehq.com/d/35986e2e25619d6e?host=localhost&port=4000&path=/graphql&ssl=False&channel=channel-1`;\n",
       "            document.body.appendChild(el);\n",
       "            el.select();\n",
       "            document.execCommand('copy');\n",
       "            document.body.removeChild(el);\n",
       "        \">Copy url to clipboard </button>\n",
       "        </div>\n",
       "        "
      ],
      "text/plain": [
       "<IPython.core.display.HTML object>"
      ]
     },
     "metadata": {},
     "output_type": "display_data"
    }
   ],
   "source": [
    "s.show_btn_page('demo-intro')"
   ]
  },
  {
   "cell_type": "code",
   "execution_count": null,
   "metadata": {},
   "outputs": [],
   "source": []
  },
  {
   "cell_type": "markdown",
   "metadata": {},
   "source": [
    "## Write"
   ]
  },
  {
   "cell_type": "code",
   "execution_count": 8,
   "metadata": {},
   "outputs": [],
   "source": [
    "def rnd_data():\n",
    "    return ''.join(random.choices('abcdefghijk', k=10)) + str(random.randint(0,1e6))"
   ]
  },
  {
   "cell_type": "code",
   "execution_count": 9,
   "metadata": {},
   "outputs": [
    {
     "data": {
      "text/plain": [
       "True"
      ]
     },
     "execution_count": 9,
     "metadata": {},
     "output_type": "execute_result"
    }
   ],
   "source": [
    "name = 'toto'\n",
    "value = rnd_data()\n",
    "s.write(name, value)"
   ]
  },
  {
   "cell_type": "code",
   "execution_count": 10,
   "metadata": {},
   "outputs": [
    {
     "data": {
      "text/plain": [
       "True"
      ]
     },
     "execution_count": 10,
     "metadata": {},
     "output_type": "execute_result"
    }
   ],
   "source": [
    "name = 'titi'\n",
    "value = rnd_data()\n",
    "s.write(name, value)"
   ]
  },
  {
   "cell_type": "code",
   "execution_count": 11,
   "metadata": {},
   "outputs": [
    {
     "data": {
      "text/plain": [
       "True"
      ]
     },
     "execution_count": 11,
     "metadata": {},
     "output_type": "execute_result"
    }
   ],
   "source": [
    "name = 'tata'\n",
    "value = rnd_data()\n",
    "s.write(name, value, expiry=10)"
   ]
  },
  {
   "cell_type": "markdown",
   "metadata": {},
   "source": [
    "## Publish"
   ]
  },
  {
   "cell_type": "code",
   "execution_count": 12,
   "metadata": {},
   "outputs": [
    {
     "data": {
      "text/plain": [
       "True"
      ]
     },
     "execution_count": 12,
     "metadata": {},
     "output_type": "execute_result"
    }
   ],
   "source": [
    "name = 'TATA'\n",
    "value = rnd_data()\n",
    "s.publish(name, value)"
   ]
  },
  {
   "cell_type": "markdown",
   "metadata": {},
   "source": [
    "## Publish & Write"
   ]
  },
  {
   "cell_type": "code",
   "execution_count": 13,
   "metadata": {},
   "outputs": [
    {
     "data": {
      "text/plain": [
       "True"
      ]
     },
     "execution_count": 13,
     "metadata": {},
     "output_type": "execute_result"
    }
   ],
   "source": [
    "name = 'TATAAAA'\n",
    "value = rnd_data()\n",
    "s.publish_write(name, value, expiry=10)"
   ]
  },
  {
   "cell_type": "markdown",
   "metadata": {},
   "source": [
    "## Read"
   ]
  },
  {
   "cell_type": "code",
   "execution_count": 14,
   "metadata": {},
   "outputs": [
    {
     "data": {
      "text/plain": [
       "192.3543393129476"
      ]
     },
     "execution_count": 14,
     "metadata": {},
     "output_type": "execute_result"
    }
   ],
   "source": [
    "name = 'toto'\n",
    "s.read(name)"
   ]
  },
  {
   "cell_type": "code",
   "execution_count": 15,
   "metadata": {},
   "outputs": [
    {
     "data": {
      "text/plain": [
       "'kgfjachkgi419777'"
      ]
     },
     "execution_count": 15,
     "metadata": {},
     "output_type": "execute_result"
    }
   ],
   "source": [
    "name = 'titi'\n",
    "s.read(name)"
   ]
  },
  {
   "cell_type": "code",
   "execution_count": 16,
   "metadata": {},
   "outputs": [
    {
     "data": {
      "text/plain": [
       "'jddefkchak889683'"
      ]
     },
     "execution_count": 16,
     "metadata": {},
     "output_type": "execute_result"
    }
   ],
   "source": [
    "name = 'tata'\n",
    "s.read(name)"
   ]
  },
  {
   "cell_type": "code",
   "execution_count": null,
   "metadata": {},
   "outputs": [],
   "source": []
  },
  {
   "cell_type": "markdown",
   "metadata": {},
   "source": [
    "## Read Histo"
   ]
  },
  {
   "cell_type": "code",
   "execution_count": 17,
   "metadata": {},
   "outputs": [
    {
     "data": {
      "text/plain": [
       "[{'value': '{\"a\":159,\"b\":136.4378709803868,\"c\":\"kGJ990feCX\",\"d\":{\"aa\":148,\"bb\":172.16080470633,\"cc\":\"TD3uyBYcy5\"}}',\n",
       "  'timestamp': datetime.datetime(2020, 5, 10, 20, 42, 22, 143000)},\n",
       " {'value': '192.3543393129476',\n",
       "  'timestamp': datetime.datetime(2020, 5, 10, 20, 42, 21, 142000)},\n",
       " {'value': 'eiiehedgdf576171',\n",
       "  'timestamp': datetime.datetime(2020, 5, 10, 22, 42, 20, 618114)},\n",
       " {'value': '135.81331471999331',\n",
       "  'timestamp': datetime.datetime(2020, 5, 10, 20, 42, 19, 140000)}]"
      ]
     },
     "execution_count": 17,
     "metadata": {},
     "output_type": "execute_result"
    }
   ],
   "source": [
    "name = 'toto'\n",
    "s.read_histo(name, 4, timestamp=True)"
   ]
  },
  {
   "cell_type": "code",
   "execution_count": 18,
   "metadata": {},
   "outputs": [
    {
     "data": {
      "text/plain": [
       "['kgfjachkgi419777', '\"MBLlCwgpIF\"', '152', '112']"
      ]
     },
     "execution_count": 18,
     "metadata": {},
     "output_type": "execute_result"
    }
   ],
   "source": [
    "name = 'titi'\n",
    "s.read_histo(name, 4, timestamp=False)"
   ]
  },
  {
   "cell_type": "code",
   "execution_count": null,
   "metadata": {},
   "outputs": [],
   "source": []
  },
  {
   "cell_type": "markdown",
   "metadata": {},
   "source": [
    "## Store"
   ]
  },
  {
   "cell_type": "code",
   "execution_count": 19,
   "metadata": {},
   "outputs": [
    {
     "data": {
      "text/plain": [
       "{'channel-1': {'toto': 192.3543393129476,\n",
       "  'titi': 'kgfjachkgi419777',\n",
       "  'tata': 'jddefkchak889683'}}"
      ]
     },
     "execution_count": 19,
     "metadata": {},
     "output_type": "execute_result"
    }
   ],
   "source": [
    "s.store"
   ]
  },
  {
   "cell_type": "code",
   "execution_count": 20,
   "metadata": {},
   "outputs": [
    {
     "data": {
      "text/plain": [
       "[('channel-1', 'toto', 192.3543393129476),\n",
       " ('channel-1', 'titi', 'kgfjachkgi419777'),\n",
       " ('channel-1', 'tata', 'jddefkchak889683')]"
      ]
     },
     "execution_count": 20,
     "metadata": {},
     "output_type": "execute_result"
    }
   ],
   "source": [
    "s.update[:3]"
   ]
  },
  {
   "cell_type": "code",
   "execution_count": null,
   "metadata": {},
   "outputs": [],
   "source": []
  },
  {
   "cell_type": "markdown",
   "metadata": {},
   "source": [
    "## Subscribe"
   ]
  },
  {
   "cell_type": "markdown",
   "metadata": {},
   "source": [
    "### DISPLAY"
   ]
  },
  {
   "cell_type": "code",
   "execution_count": 21,
   "metadata": {},
   "outputs": [
    {
     "data": {
      "text/plain": []
     },
     "metadata": {},
     "output_type": "display_data"
    }
   ],
   "source": [
    "out = CellDisplay(name='subscribe-status', max_lines=8)\n",
    "# show_lines = []\n",
    "\n",
    "def show(channel, name, value):\n",
    "    ts = dt.datetime.now().strftime('%H:%M:%S.%f')[:-4]\n",
    "    s = f'received on {channel}: {name} --> {value} ({ts})'\n",
    "    out.update(s, kind='text', append=True)"
   ]
  },
  {
   "cell_type": "code",
   "execution_count": 22,
   "metadata": {},
   "outputs": [
    {
     "data": {
      "text/plain": []
     },
     "metadata": {},
     "output_type": "display_data"
    }
   ],
   "source": [
    "out.display()"
   ]
  },
  {
   "cell_type": "markdown",
   "metadata": {},
   "source": [
    "### START"
   ]
  },
  {
   "cell_type": "code",
   "execution_count": 23,
   "metadata": {},
   "outputs": [],
   "source": [
    "ref = s.subscribe(action=show)"
   ]
  },
  {
   "cell_type": "markdown",
   "metadata": {},
   "source": [
    "### STOP"
   ]
  },
  {
   "cell_type": "code",
   "execution_count": 24,
   "metadata": {},
   "outputs": [],
   "source": [
    "s.subscribe_stop()"
   ]
  },
  {
   "cell_type": "code",
   "execution_count": 25,
   "metadata": {},
   "outputs": [],
   "source": [
    "out.clear()"
   ]
  },
  {
   "cell_type": "code",
   "execution_count": null,
   "metadata": {},
   "outputs": [],
   "source": []
  },
  {
   "cell_type": "code",
   "execution_count": null,
   "metadata": {},
   "outputs": [],
   "source": []
  }
 ],
 "metadata": {
  "kernelspec": {
   "display_name": "work",
   "language": "python",
   "name": "work"
  },
  "language_info": {
   "codemirror_mode": {
    "name": "ipython",
    "version": 3
   },
   "file_extension": ".py",
   "mimetype": "text/x-python",
   "name": "python",
   "nbconvert_exporter": "python",
   "pygments_lexer": "ipython3",
   "version": "3.8.1"
  }
 },
 "nbformat": 4,
 "nbformat_minor": 4
}
