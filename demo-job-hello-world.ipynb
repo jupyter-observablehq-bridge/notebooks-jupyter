{
 "cells": [
  {
   "cell_type": "raw",
   "metadata": {},
   "source": [
    "%load_ext autoreload\n",
    "%autoreload 2"
   ]
  },
  {
   "cell_type": "code",
   "execution_count": 1,
   "metadata": {},
   "outputs": [],
   "source": [
    "import random\n",
    "import datetime as dt\n",
    "\n",
    "from job_client_graphql import Client, CellDisplay"
   ]
  },
  {
   "cell_type": "markdown",
   "metadata": {},
   "source": [
    "## Prerequisite\n",
    "+ Launch JOB server - see [documentation](TBD) section **5-Examples**"
   ]
  },
  {
   "cell_type": "code",
   "execution_count": 4,
   "metadata": {},
   "outputs": [],
   "source": [
    "pages = {\n",
    "    'hello-world': 'https://observablehq.com/d/35986e2e25619d6e',\n",
    "}"
   ]
  },
  {
   "cell_type": "code",
   "execution_count": 5,
   "metadata": {},
   "outputs": [
    {
     "name": "stdout",
     "output_type": "stream",
     "text": [
      "https://observablehq.com/d/35986e2e25619d6e?host=localhost&port=4001&path=/graphql&ssl=False&channel=channel-1\n"
     ]
    },
    {
     "data": {
      "text/html": [
       "\n",
       "        <div style=\"display: flex; align-items: center\">\n",
       "            <div style=\"\n",
       "        margin-right: 20px;;\n",
       "        \">Page <span style=\"color:red;\">HELLO-WORLD</span></div>\n",
       "            <button style=\"\n",
       "        background-color:light-grey;\n",
       "        width: 200px;\n",
       "        \n",
       "        margin-right: 20px;;\n",
       "        \" onclick=\"window.open('https://observablehq.com/d/35986e2e25619d6e?host=localhost&port=4001&path=/graphql&ssl=False&channel=channel-1', '_blank'); return false;\">Open in new tab</button>\n",
       "            <button style=\"\n",
       "        background-color:light-grey;\n",
       "        width: 200px;\n",
       "        \" onclick=\"\n",
       "            const el = document.createElement('textarea');\n",
       "            el.value = `https://observablehq.com/d/35986e2e25619d6e?host=localhost&port=4001&path=/graphql&ssl=False&channel=channel-1`;\n",
       "            document.body.appendChild(el);\n",
       "            el.select();\n",
       "            document.execCommand('copy');\n",
       "            document.body.removeChild(el);\n",
       "        \">Copy url to clipboard </button>\n",
       "        </div>\n",
       "        "
      ],
      "text/plain": [
       "<IPython.core.display.HTML object>"
      ]
     },
     "metadata": {},
     "output_type": "display_data"
    }
   ],
   "source": [
    "s = Client(server_url='http://localhost:4001/graphql',\n",
    "           default_channel='channel-1',\n",
    "           password='mysecret',\n",
    "           pages=pages,         \n",
    "           debug=False)\n",
    "print(s.build_url('hello-world'))\n",
    "s.show_btn_page('hello-world')"
   ]
  },
  {
   "cell_type": "markdown",
   "metadata": {},
   "source": [
    "## write"
   ]
  },
  {
   "cell_type": "code",
   "execution_count": 31,
   "metadata": {},
   "outputs": [],
   "source": [
    "def rnd_data():\n",
    "    return ''.join(random.choices('abcdefghijk', k=10)) + str(random.randint(0,1e6))"
   ]
  },
  {
   "cell_type": "code",
   "execution_count": 32,
   "metadata": {},
   "outputs": [
    {
     "name": "stdout",
     "output_type": "stream",
     "text": [
      "toto edfcdgfihf315552\n"
     ]
    },
    {
     "data": {
      "text/plain": [
       "True"
      ]
     },
     "execution_count": 32,
     "metadata": {},
     "output_type": "execute_result"
    }
   ],
   "source": [
    "name, value = 'toto', rnd_data()\n",
    "print(name, value)\n",
    "s.write(name, value)"
   ]
  },
  {
   "cell_type": "code",
   "execution_count": 33,
   "metadata": {},
   "outputs": [
    {
     "name": "stdout",
     "output_type": "stream",
     "text": [
      "titi ieejeejjjc227916\n"
     ]
    },
    {
     "data": {
      "text/plain": [
       "True"
      ]
     },
     "execution_count": 33,
     "metadata": {},
     "output_type": "execute_result"
    }
   ],
   "source": [
    "name, value = 'titi', rnd_data()\n",
    "print(name, value)\n",
    "s.write(name, value)"
   ]
  },
  {
   "cell_type": "code",
   "execution_count": 34,
   "metadata": {},
   "outputs": [
    {
     "name": "stdout",
     "output_type": "stream",
     "text": [
      "tata bakadeadhe764415\n"
     ]
    },
    {
     "data": {
      "text/plain": [
       "True"
      ]
     },
     "execution_count": 34,
     "metadata": {},
     "output_type": "execute_result"
    }
   ],
   "source": [
    "name, value = 'tata', rnd_data()\n",
    "print(name, value)\n",
    "s.write(name, value, expiry=10) # self delete after 10s"
   ]
  },
  {
   "cell_type": "markdown",
   "metadata": {},
   "source": [
    "## publish"
   ]
  },
  {
   "cell_type": "code",
   "execution_count": 37,
   "metadata": {},
   "outputs": [
    {
     "name": "stdout",
     "output_type": "stream",
     "text": [
      "tutu fgjagddjag115068\n"
     ]
    },
    {
     "data": {
      "text/plain": [
       "True"
      ]
     },
     "execution_count": 37,
     "metadata": {},
     "output_type": "execute_result"
    }
   ],
   "source": [
    "name, value = 'tutu', rnd_data() \n",
    "print(name, value)\n",
    "s.publish(name, value)"
   ]
  },
  {
   "cell_type": "markdown",
   "metadata": {},
   "source": [
    "## publishWrite"
   ]
  },
  {
   "cell_type": "code",
   "execution_count": 40,
   "metadata": {},
   "outputs": [
    {
     "name": "stdout",
     "output_type": "stream",
     "text": [
      "tete igfbbkdiij10843\n"
     ]
    },
    {
     "data": {
      "text/plain": [
       "True"
      ]
     },
     "execution_count": 40,
     "metadata": {},
     "output_type": "execute_result"
    }
   ],
   "source": [
    "name, value = 'tete', rnd_data()\n",
    "print(name, value)\n",
    "s.publish_write(name, value, expiry=30) # self delete after 30s"
   ]
  },
  {
   "cell_type": "markdown",
   "metadata": {},
   "source": [
    "## read"
   ]
  },
  {
   "cell_type": "code",
   "execution_count": 41,
   "metadata": {},
   "outputs": [
    {
     "data": {
      "text/plain": [
       "{'a': 173,\n",
       " 'b': 165.46045327673835,\n",
       " 'c': 'zxlctIkqb5',\n",
       " 'd': {'aa': 169, 'bb': 162.45033459436542, 'cc': 'gTyeHWRQ9C'}}"
      ]
     },
     "execution_count": 41,
     "metadata": {},
     "output_type": "execute_result"
    }
   ],
   "source": [
    "name = 'toto'\n",
    "s.read(name)"
   ]
  },
  {
   "cell_type": "code",
   "execution_count": 42,
   "metadata": {},
   "outputs": [
    {
     "data": {
      "text/plain": [
       "'D8i44Inrmz'"
      ]
     },
     "execution_count": 42,
     "metadata": {},
     "output_type": "execute_result"
    }
   ],
   "source": [
    "name = 'titi'\n",
    "s.read(name)"
   ]
  },
  {
   "cell_type": "code",
   "execution_count": 43,
   "metadata": {},
   "outputs": [],
   "source": [
    "name = 'tata'\n",
    "s.read(name)"
   ]
  },
  {
   "cell_type": "markdown",
   "metadata": {},
   "source": [
    "## readHisto"
   ]
  },
  {
   "cell_type": "code",
   "execution_count": 44,
   "metadata": {},
   "outputs": [
    {
     "data": {
      "text/plain": [
       "[{'value': 163.6029165124119,\n",
       "  'timestamp': datetime.datetime(2020, 5, 15, 19, 30, 6, 26000)},\n",
       " {'value': {'a': 170,\n",
       "   'b': 197.5911226799439,\n",
       "   'c': 'pNK6CtiSti',\n",
       "   'd': {'aa': 173, 'bb': 135.45567707446182, 'cc': 'dzW4lscJx2'}},\n",
       "  'timestamp': datetime.datetime(2020, 5, 15, 19, 30, 5, 26000)},\n",
       " {'value': 161.5016939553714,\n",
       "  'timestamp': datetime.datetime(2020, 5, 15, 19, 30, 3, 23000)},\n",
       " {'value': {'a': 148,\n",
       "   'b': 198.62843140504827,\n",
       "   'c': '3VtbpyvlEY',\n",
       "   'd': {'aa': 101, 'bb': 103.27873059389847, 'cc': 'omBbwZJaUX'}},\n",
       "  'timestamp': datetime.datetime(2020, 5, 15, 19, 30, 1, 19000)}]"
      ]
     },
     "execution_count": 44,
     "metadata": {},
     "output_type": "execute_result"
    }
   ],
   "source": [
    "name = 'toto'\n",
    "s.read_histo(name, 4, timestamp=True)"
   ]
  },
  {
   "cell_type": "code",
   "execution_count": 45,
   "metadata": {},
   "outputs": [
    {
     "data": {
      "text/plain": [
       "[174.54825229005854,\n",
       " 191,\n",
       " 'D8i44Inrmz',\n",
       " {'a': 116,\n",
       "  'b': 110.31333075406593,\n",
       "  'c': '1z6t6GRuOB',\n",
       "  'd': {'aa': 103, 'bb': 126.29993142784897, 'cc': 'BFX8YDPPIu'}}]"
      ]
     },
     "execution_count": 45,
     "metadata": {},
     "output_type": "execute_result"
    }
   ],
   "source": [
    "name = 'titi'\n",
    "s.read_histo(name, 4, timestamp=False)"
   ]
  },
  {
   "cell_type": "code",
   "execution_count": null,
   "metadata": {},
   "outputs": [],
   "source": []
  },
  {
   "cell_type": "markdown",
   "metadata": {},
   "source": [
    "## Store\n",
    "\n",
    "Client.store contains the latest values read"
   ]
  },
  {
   "cell_type": "code",
   "execution_count": 46,
   "metadata": {},
   "outputs": [
    {
     "data": {
      "text/plain": [
       "{'channel-1': {'toto': {'a': 173,\n",
       "   'b': 165.46045327673835,\n",
       "   'c': 'zxlctIkqb5',\n",
       "   'd': {'aa': 169, 'bb': 162.45033459436542, 'cc': 'gTyeHWRQ9C'}},\n",
       "  'titi': 'D8i44Inrmz',\n",
       "  'tata': None}}"
      ]
     },
     "execution_count": 46,
     "metadata": {},
     "output_type": "execute_result"
    }
   ],
   "source": [
    "s.store"
   ]
  },
  {
   "cell_type": "markdown",
   "metadata": {},
   "source": [
    "Client.update contains the sequence of updates (channel, name, value) - starting from latest values read\n"
   ]
  },
  {
   "cell_type": "code",
   "execution_count": 47,
   "metadata": {},
   "outputs": [
    {
     "data": {
      "text/plain": [
       "[('channel-1',\n",
       "  'toto',\n",
       "  {'a': 173,\n",
       "   'b': 165.46045327673835,\n",
       "   'c': 'zxlctIkqb5',\n",
       "   'd': {'aa': 169, 'bb': 162.45033459436542, 'cc': 'gTyeHWRQ9C'}}),\n",
       " ('channel-1', 'titi', 'D8i44Inrmz'),\n",
       " ('channel-1', 'tata', None)]"
      ]
     },
     "execution_count": 47,
     "metadata": {},
     "output_type": "execute_result"
    }
   ],
   "source": [
    "s.update[:3]"
   ]
  },
  {
   "cell_type": "code",
   "execution_count": null,
   "metadata": {},
   "outputs": [],
   "source": []
  },
  {
   "cell_type": "markdown",
   "metadata": {},
   "source": [
    "## Subscribe"
   ]
  },
  {
   "cell_type": "markdown",
   "metadata": {},
   "source": [
    "### DISPLAY\n",
    "In this demo (channel:name->value) are displayed upon udpate"
   ]
  },
  {
   "cell_type": "code",
   "execution_count": 50,
   "metadata": {},
   "outputs": [
    {
     "data": {
      "text/plain": [
       "received on channel-1: toto --> \"mDjQ8GNb9I\" (21:30:42.08)\n",
       "received on channel-1: titi --> 110 (21:30:43.07)\n",
       "received on channel-1: toto --> {\"a\":160,\"b\":149.61390546485103,\"c\":\"vLHbBMHVHr\",\"d\":{\"aa\":113,\"bb\":170.37354542147676,\"cc\":\"EfCkaRqvKe\"}} (21:30:44.07)\n",
       "received on channel-1: toto --> {\"a\":182,\"b\":152.5025211858453,\"c\":\"UtOdXYnATS\",\"d\":{\"aa\":112,\"bb\":163.00626054799307,\"cc\":\"4nXImwPqzj\"}} (21:30:45.07)\n",
       "received on channel-1: toto --> 145.36042870786775 (21:30:46.07)"
      ]
     },
     "metadata": {},
     "output_type": "display_data"
    }
   ],
   "source": [
    "out = CellDisplay(name='subscribe-status', max_lines=5)\n",
    "# show_lines = []\n",
    "\n",
    "def show(channel, name, value):\n",
    "    ts = dt.datetime.now().strftime('%H:%M:%S.%f')[:-4]\n",
    "    s = f'received on {channel}: {name} --> {value} ({ts})'\n",
    "    out.update(s, kind='text', append=True)"
   ]
  },
  {
   "cell_type": "code",
   "execution_count": 51,
   "metadata": {},
   "outputs": [
    {
     "data": {
      "text/plain": [
       "received on channel-1: toto --> \"mDjQ8GNb9I\" (21:30:42.08)\n",
       "received on channel-1: titi --> 110 (21:30:43.07)\n",
       "received on channel-1: toto --> {\"a\":160,\"b\":149.61390546485103,\"c\":\"vLHbBMHVHr\",\"d\":{\"aa\":113,\"bb\":170.37354542147676,\"cc\":\"EfCkaRqvKe\"}} (21:30:44.07)\n",
       "received on channel-1: toto --> {\"a\":182,\"b\":152.5025211858453,\"c\":\"UtOdXYnATS\",\"d\":{\"aa\":112,\"bb\":163.00626054799307,\"cc\":\"4nXImwPqzj\"}} (21:30:45.07)\n",
       "received on channel-1: toto --> 145.36042870786775 (21:30:46.07)"
      ]
     },
     "metadata": {},
     "output_type": "display_data"
    }
   ],
   "source": [
    "out.display()"
   ]
  },
  {
   "cell_type": "markdown",
   "metadata": {},
   "source": [
    "### START\n",
    "If no channel is specified the Client.default_channel is used."
   ]
  },
  {
   "cell_type": "code",
   "execution_count": 52,
   "metadata": {},
   "outputs": [],
   "source": [
    "ref = s.subscribe(action=show)"
   ]
  },
  {
   "cell_type": "markdown",
   "metadata": {},
   "source": [
    "### STOP"
   ]
  },
  {
   "cell_type": "code",
   "execution_count": 53,
   "metadata": {},
   "outputs": [
    {
     "name": "stdout",
     "output_type": "stream",
     "text": [
      "subscription ref=XbBNY8 stopped\n"
     ]
    }
   ],
   "source": [
    "s.subscribe_stop(ref)"
   ]
  },
  {
   "cell_type": "code",
   "execution_count": 24,
   "metadata": {},
   "outputs": [],
   "source": [
    "out.clear()"
   ]
  },
  {
   "cell_type": "code",
   "execution_count": null,
   "metadata": {},
   "outputs": [],
   "source": []
  },
  {
   "cell_type": "code",
   "execution_count": null,
   "metadata": {},
   "outputs": [],
   "source": []
  }
 ],
 "metadata": {
  "kernelspec": {
   "display_name": "work",
   "language": "python",
   "name": "work"
  },
  "language_info": {
   "codemirror_mode": {
    "name": "ipython",
    "version": 3
   },
   "file_extension": ".py",
   "mimetype": "text/x-python",
   "name": "python",
   "nbconvert_exporter": "python",
   "pygments_lexer": "ipython3",
   "version": "3.8.1"
  }
 },
 "nbformat": 4,
 "nbformat_minor": 4
}
