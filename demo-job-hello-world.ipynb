{
 "cells": [
  {
   "cell_type": "code",
   "execution_count": 1,
   "metadata": {},
   "outputs": [],
   "source": [
    "%load_ext autoreload\n",
    "%autoreload 2"
   ]
  },
  {
   "cell_type": "code",
   "execution_count": 2,
   "metadata": {},
   "outputs": [],
   "source": [
    "import random\n",
    "import datetime as dt\n",
    "\n",
    "from job_client_graphql import Client, CellDisplay"
   ]
  },
  {
   "cell_type": "markdown",
   "metadata": {},
   "source": [
    "## Prerequisite\n",
    "+ Launch JOB server - see [documentation](TBD) section **5-Examples**"
   ]
  },
  {
   "cell_type": "code",
   "execution_count": 3,
   "metadata": {},
   "outputs": [],
   "source": [
    "pages = {\n",
    "    'hello-world': 'https://observablehq.com/@oscar6echo/job-example-hello-world',\n",
    "}"
   ]
  },
  {
   "cell_type": "code",
   "execution_count": 4,
   "metadata": {},
   "outputs": [
    {
     "name": "stdout",
     "output_type": "stream",
     "text": [
      "https://observablehq.com/@oscar6echo/job-example-hello-world?host=localhost&port=4001&path=/graphql&ssl=False&channel=channel-1\n"
     ]
    },
    {
     "data": {
      "text/html": [
       "\n",
       "        <div style=\"display: flex; align-items: center\">\n",
       "            <div style=\"\n",
       "        margin-right: 20px;;\n",
       "        \">Page <span style=\"color:red;\">HELLO-WORLD</span></div>\n",
       "            <button style=\"\n",
       "        background-color:light-grey;\n",
       "        width: 200px;\n",
       "        \n",
       "        margin-right: 20px;;\n",
       "        \" onclick=\"window.open('https://observablehq.com/@oscar6echo/job-example-hello-world?host=localhost&port=4001&path=/graphql&ssl=False&channel=channel-1', '_blank'); return false;\">Open in new tab</button>\n",
       "            <button style=\"\n",
       "        background-color:light-grey;\n",
       "        width: 200px;\n",
       "        \" onclick=\"\n",
       "            const el = document.createElement('textarea');\n",
       "            el.value = `https://observablehq.com/@oscar6echo/job-example-hello-world?host=localhost&port=4001&path=/graphql&ssl=False&channel=channel-1`;\n",
       "            document.body.appendChild(el);\n",
       "            el.select();\n",
       "            document.execCommand('copy');\n",
       "            document.body.removeChild(el);\n",
       "        \">Copy url to clipboard </button>\n",
       "        </div>\n",
       "        "
      ],
      "text/plain": [
       "<IPython.core.display.HTML object>"
      ]
     },
     "metadata": {},
     "output_type": "display_data"
    }
   ],
   "source": [
    "s = Client(server_url='http://localhost:4001/graphql',\n",
    "           default_channel='channel-1',\n",
    "           password='mysecret',\n",
    "           pages=pages,         \n",
    "           debug=False)\n",
    "print(s.build_url('hello-world'))\n",
    "s.show_btn_page('hello-world')"
   ]
  },
  {
   "cell_type": "markdown",
   "metadata": {},
   "source": [
    "## write"
   ]
  },
  {
   "cell_type": "code",
   "execution_count": 5,
   "metadata": {},
   "outputs": [],
   "source": [
    "def rnd_data():\n",
    "    return ''.join(random.choices('abcdefghijk', k=10)) + str(random.randint(0,1e6))"
   ]
  },
  {
   "cell_type": "code",
   "execution_count": 6,
   "metadata": {},
   "outputs": [
    {
     "name": "stdout",
     "output_type": "stream",
     "text": [
      "toto chgegecgei461915\n"
     ]
    },
    {
     "data": {
      "text/plain": [
       "True"
      ]
     },
     "execution_count": 6,
     "metadata": {},
     "output_type": "execute_result"
    }
   ],
   "source": [
    "name, value = 'toto', rnd_data()\n",
    "print(name, value)\n",
    "s.write(name, value)"
   ]
  },
  {
   "cell_type": "code",
   "execution_count": 7,
   "metadata": {},
   "outputs": [
    {
     "name": "stdout",
     "output_type": "stream",
     "text": [
      "titi cegbgggeia386716\n"
     ]
    },
    {
     "data": {
      "text/plain": [
       "True"
      ]
     },
     "execution_count": 7,
     "metadata": {},
     "output_type": "execute_result"
    }
   ],
   "source": [
    "name, value = 'titi', rnd_data()\n",
    "print(name, value)\n",
    "s.write(name, value)"
   ]
  },
  {
   "cell_type": "code",
   "execution_count": 8,
   "metadata": {},
   "outputs": [
    {
     "name": "stdout",
     "output_type": "stream",
     "text": [
      "tata hhbidabcjb38143\n"
     ]
    },
    {
     "data": {
      "text/plain": [
       "True"
      ]
     },
     "execution_count": 8,
     "metadata": {},
     "output_type": "execute_result"
    }
   ],
   "source": [
    "name, value = 'tata', rnd_data()\n",
    "print(name, value)\n",
    "s.write(name, value, expiry=10) # self delete after 10s"
   ]
  },
  {
   "cell_type": "markdown",
   "metadata": {},
   "source": [
    "## publish"
   ]
  },
  {
   "cell_type": "code",
   "execution_count": 9,
   "metadata": {},
   "outputs": [
    {
     "name": "stdout",
     "output_type": "stream",
     "text": [
      "tutu dbhjejdgjf701328\n"
     ]
    },
    {
     "data": {
      "text/plain": [
       "True"
      ]
     },
     "execution_count": 9,
     "metadata": {},
     "output_type": "execute_result"
    }
   ],
   "source": [
    "name, value = 'tutu', rnd_data() \n",
    "print(name, value)\n",
    "s.publish(name, value)"
   ]
  },
  {
   "cell_type": "markdown",
   "metadata": {},
   "source": [
    "## publishWrite"
   ]
  },
  {
   "cell_type": "code",
   "execution_count": 10,
   "metadata": {},
   "outputs": [
    {
     "name": "stdout",
     "output_type": "stream",
     "text": [
      "tete gkafabgkhj346449\n"
     ]
    },
    {
     "data": {
      "text/plain": [
       "True"
      ]
     },
     "execution_count": 10,
     "metadata": {},
     "output_type": "execute_result"
    }
   ],
   "source": [
    "name, value = 'tete', rnd_data()\n",
    "print(name, value)\n",
    "s.publish_write(name, value, expiry=30) # self delete after 30s"
   ]
  },
  {
   "cell_type": "markdown",
   "metadata": {},
   "source": [
    "## read"
   ]
  },
  {
   "cell_type": "code",
   "execution_count": 11,
   "metadata": {},
   "outputs": [
    {
     "data": {
      "text/plain": [
       "147.3701697440093"
      ]
     },
     "execution_count": 11,
     "metadata": {},
     "output_type": "execute_result"
    }
   ],
   "source": [
    "name = 'toto'\n",
    "s.read(name)"
   ]
  },
  {
   "cell_type": "code",
   "execution_count": 12,
   "metadata": {},
   "outputs": [
    {
     "data": {
      "text/plain": [
       "161"
      ]
     },
     "execution_count": 12,
     "metadata": {},
     "output_type": "execute_result"
    }
   ],
   "source": [
    "name = 'titi'\n",
    "s.read(name)"
   ]
  },
  {
   "cell_type": "code",
   "execution_count": 13,
   "metadata": {},
   "outputs": [],
   "source": [
    "name = 'tata'\n",
    "s.read(name)"
   ]
  },
  {
   "cell_type": "markdown",
   "metadata": {},
   "source": [
    "## readHisto"
   ]
  },
  {
   "cell_type": "code",
   "execution_count": 14,
   "metadata": {},
   "outputs": [
    {
     "data": {
      "text/plain": [
       "[{'value': 188,\n",
       "  'timestamp': datetime.datetime(2020, 5, 15, 20, 50, 22, 341000)},\n",
       " {'value': 147.3701697440093,\n",
       "  'timestamp': datetime.datetime(2020, 5, 15, 20, 50, 21, 341000)},\n",
       " {'value': 148,\n",
       "  'timestamp': datetime.datetime(2020, 5, 15, 20, 50, 20, 341000)},\n",
       " {'value': {'a': 163,\n",
       "   'b': 107.54472501130219,\n",
       "   'c': 'VPAt8YXLcL',\n",
       "   'd': {'aa': 132, 'bb': 105.81288042684858, 'cc': 'vIJfjHp9Du'}},\n",
       "  'timestamp': datetime.datetime(2020, 5, 15, 20, 50, 17, 339000)}]"
      ]
     },
     "execution_count": 14,
     "metadata": {},
     "output_type": "execute_result"
    }
   ],
   "source": [
    "name = 'toto'\n",
    "s.read_histo(name, 4, timestamp=True)"
   ]
  },
  {
   "cell_type": "code",
   "execution_count": 15,
   "metadata": {},
   "outputs": [
    {
     "data": {
      "text/plain": [
       "[{'a': 136,\n",
       "  'b': 181.31896735714668,\n",
       "  'c': 'GWj09kvEjh',\n",
       "  'd': {'aa': 126, 'bb': 171.7513908346837, 'cc': 'vi0jBfKCpS'}},\n",
       " 131,\n",
       " {'a': 177,\n",
       "  'b': 152.16126087967788,\n",
       "  'c': '3qZxUogZw8',\n",
       "  'd': {'aa': 164, 'bb': 185.44496914753142, 'cc': 'YLTQeJV1Rw'}},\n",
       " 161]"
      ]
     },
     "execution_count": 15,
     "metadata": {},
     "output_type": "execute_result"
    }
   ],
   "source": [
    "name = 'titi'\n",
    "s.read_histo(name, 4, timestamp=False)"
   ]
  },
  {
   "cell_type": "code",
   "execution_count": null,
   "metadata": {},
   "outputs": [],
   "source": []
  },
  {
   "cell_type": "markdown",
   "metadata": {},
   "source": [
    "## Store\n",
    "\n",
    "Client.store contains the latest values read"
   ]
  },
  {
   "cell_type": "code",
   "execution_count": 16,
   "metadata": {},
   "outputs": [
    {
     "data": {
      "text/plain": [
       "{'channel-1': {'toto': 147.3701697440093, 'titi': 161, 'tata': None}}"
      ]
     },
     "execution_count": 16,
     "metadata": {},
     "output_type": "execute_result"
    }
   ],
   "source": [
    "s.store"
   ]
  },
  {
   "cell_type": "markdown",
   "metadata": {},
   "source": [
    "Client.update contains the sequence of updates (channel, name, value) - starting from latest values read\n"
   ]
  },
  {
   "cell_type": "code",
   "execution_count": 17,
   "metadata": {},
   "outputs": [
    {
     "data": {
      "text/plain": [
       "[('channel-1', 'toto', 147.3701697440093),\n",
       " ('channel-1', 'titi', 161),\n",
       " ('channel-1', 'tata', None)]"
      ]
     },
     "execution_count": 17,
     "metadata": {},
     "output_type": "execute_result"
    }
   ],
   "source": [
    "s.update[:3]"
   ]
  },
  {
   "cell_type": "code",
   "execution_count": null,
   "metadata": {},
   "outputs": [],
   "source": []
  },
  {
   "cell_type": "markdown",
   "metadata": {},
   "source": [
    "## Subscribe"
   ]
  },
  {
   "cell_type": "markdown",
   "metadata": {},
   "source": [
    "### DISPLAY\n",
    "In this demo (channel:name->value) are displayed upon udpate"
   ]
  },
  {
   "cell_type": "code",
   "execution_count": 18,
   "metadata": {},
   "outputs": [
    {
     "data": {
      "text/plain": [
       "received on channel-1: toto --> \"bklitXllYi\" (22:50:43.36)\n",
       "received on channel-1: toto --> 128.18205286479457 (22:50:44.36)\n",
       "received on channel-1: titi --> 182 (22:50:45.36)\n",
       "received on channel-1: toto --> \"vEfJywsn1B\" (22:50:46.36)\n",
       "received on channel-1: toto --> 149 (22:50:47.36)"
      ]
     },
     "metadata": {},
     "output_type": "display_data"
    }
   ],
   "source": [
    "out = CellDisplay(name='subscribe-status', max_lines=5)\n",
    "\n",
    "def show(channel, name, value):\n",
    "    ts = dt.datetime.now().strftime('%H:%M:%S.%f')[:-4]\n",
    "    s = f'received on {channel}: {name} --> {value} ({ts})'\n",
    "    out.update(s, kind='text', append=True)"
   ]
  },
  {
   "cell_type": "code",
   "execution_count": 19,
   "metadata": {},
   "outputs": [
    {
     "data": {
      "text/plain": [
       "received on channel-1: toto --> \"bklitXllYi\" (22:50:43.36)\n",
       "received on channel-1: toto --> 128.18205286479457 (22:50:44.36)\n",
       "received on channel-1: titi --> 182 (22:50:45.36)\n",
       "received on channel-1: toto --> \"vEfJywsn1B\" (22:50:46.36)\n",
       "received on channel-1: toto --> 149 (22:50:47.36)"
      ]
     },
     "metadata": {},
     "output_type": "display_data"
    }
   ],
   "source": [
    "out.display()"
   ]
  },
  {
   "cell_type": "markdown",
   "metadata": {},
   "source": [
    "### START\n",
    "If no channel is specified the Client.default_channel is used."
   ]
  },
  {
   "cell_type": "code",
   "execution_count": 20,
   "metadata": {},
   "outputs": [],
   "source": [
    "ref = s.subscribe(action=show)"
   ]
  },
  {
   "cell_type": "markdown",
   "metadata": {},
   "source": [
    "### STOP"
   ]
  },
  {
   "cell_type": "code",
   "execution_count": 21,
   "metadata": {},
   "outputs": [
    {
     "name": "stdout",
     "output_type": "stream",
     "text": [
      "subscription ref=2B6hua stopped\n"
     ]
    }
   ],
   "source": [
    "s.subscribe_stop(ref)"
   ]
  },
  {
   "cell_type": "code",
   "execution_count": null,
   "metadata": {},
   "outputs": [],
   "source": [
    "out.clear()"
   ]
  },
  {
   "cell_type": "code",
   "execution_count": null,
   "metadata": {},
   "outputs": [],
   "source": []
  },
  {
   "cell_type": "code",
   "execution_count": null,
   "metadata": {},
   "outputs": [],
   "source": []
  },
  {
   "cell_type": "code",
   "execution_count": null,
   "metadata": {},
   "outputs": [],
   "source": []
  },
  {
   "cell_type": "code",
   "execution_count": null,
   "metadata": {},
   "outputs": [],
   "source": []
  },
  {
   "cell_type": "code",
   "execution_count": null,
   "metadata": {},
   "outputs": [],
   "source": []
  },
  {
   "cell_type": "code",
   "execution_count": null,
   "metadata": {},
   "outputs": [],
   "source": []
  },
  {
   "cell_type": "code",
   "execution_count": null,
   "metadata": {},
   "outputs": [],
   "source": []
  },
  {
   "cell_type": "code",
   "execution_count": null,
   "metadata": {},
   "outputs": [],
   "source": []
  },
  {
   "cell_type": "code",
   "execution_count": null,
   "metadata": {},
   "outputs": [],
   "source": []
  },
  {
   "cell_type": "code",
   "execution_count": null,
   "metadata": {},
   "outputs": [],
   "source": []
  }
 ],
 "metadata": {
  "kernelspec": {
   "display_name": "work",
   "language": "python",
   "name": "work"
  },
  "language_info": {
   "codemirror_mode": {
    "name": "ipython",
    "version": 3
   },
   "file_extension": ".py",
   "mimetype": "text/x-python",
   "name": "python",
   "nbconvert_exporter": "python",
   "pygments_lexer": "ipython3",
   "version": "3.8.1"
  }
 },
 "nbformat": 4,
 "nbformat_minor": 4
}
