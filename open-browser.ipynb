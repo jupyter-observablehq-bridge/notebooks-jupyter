{
 "cells": [
  {
   "cell_type": "code",
   "execution_count": 51,
   "metadata": {},
   "outputs": [],
   "source": [
    "import webbrowser\n"
   ]
  },
  {
   "cell_type": "code",
   "execution_count": 92,
   "metadata": {},
   "outputs": [
    {
     "data": {
      "text/plain": [
       "{'google-chrome': '/usr/bin/google-chrome %s',\n",
       " 'google-chrome-private': '/usr/bin/google-chrome --incognito %s',\n",
       " 'brave-browser': '/usr/bin/brave-browser %s',\n",
       " 'brave-browser-private': '/usr/bin/brave-browser --incognito %s',\n",
       " 'opera': '/usr/bin/opera %s',\n",
       " 'opera-private': '/usr/bin/opera --private %s',\n",
       " 'firefox': '/usr/bin/firefox %s',\n",
       " 'firefox-private': '/usr/bin/firefox --private %s'}"
      ]
     },
     "execution_count": 92,
     "metadata": {},
     "output_type": "execute_result"
    }
   ],
   "source": [
    "browser_flag = {\n",
    "    'google-chrome': 'incognito',\n",
    "    'brave-browser': 'incognito',\n",
    "    'opera': 'private',\n",
    "    'firefox': 'private',  \n",
    "}\n",
    "\n",
    "command = {}\n",
    "browser = {}\n",
    "for k in browser_flag.keys():   \n",
    "    e = !which $k\n",
    "    path = e[0]\n",
    "    name = k\n",
    "    cmd = f'{path} %s'\n",
    "    name_private = name+'-private'\n",
    "    cmd_private = f\"{path} --{browser_flag[name]} %s\"\n",
    "    command[name] = cmd\n",
    "    command[name_private] = cmd_private\n",
    "    browser[name] = webbrowser.get(cmd)\n",
    "    browser[name_private] = webbrowser.get(cmd_private)\n",
    "\n",
    "command"
   ]
  },
  {
   "cell_type": "code",
   "execution_count": 93,
   "metadata": {},
   "outputs": [
    {
     "data": {
      "text/plain": [
       "{'google-chrome': <webbrowser.GenericBrowser at 0x7f2bc5d6f580>,\n",
       " 'google-chrome-private': <webbrowser.GenericBrowser at 0x7f2bc5d6f9a0>,\n",
       " 'brave-browser': <webbrowser.GenericBrowser at 0x7f2bc5d6f8b0>,\n",
       " 'brave-browser-private': <webbrowser.GenericBrowser at 0x7f2bc5ff7190>,\n",
       " 'opera': <webbrowser.GenericBrowser at 0x7f2bc5a43700>,\n",
       " 'opera-private': <webbrowser.GenericBrowser at 0x7f2bc5af5e20>,\n",
       " 'firefox': <webbrowser.GenericBrowser at 0x7f2bc55f4af0>,\n",
       " 'firefox-private': <webbrowser.GenericBrowser at 0x7f2bd47dcf10>}"
      ]
     },
     "execution_count": 93,
     "metadata": {},
     "output_type": "execute_result"
    }
   ],
   "source": [
    "browser"
   ]
  },
  {
   "cell_type": "code",
   "execution_count": 80,
   "metadata": {},
   "outputs": [],
   "source": [
    "url = 'https://google.com'"
   ]
  },
  {
   "cell_type": "code",
   "execution_count": 81,
   "metadata": {},
   "outputs": [
    {
     "name": "stdout",
     "output_type": "stream",
     "text": [
      "google-chrome\n",
      "google-chrome-private\n",
      "brave-browser\n",
      "brave-browser-private\n",
      "opera\n",
      "opera-private\n",
      "firefox\n",
      "firefox-private\n"
     ]
    }
   ],
   "source": [
    "for name, b in browser.items():\n",
    "    print(name)\n",
    "#     b.open(url, new=2)"
   ]
  },
  {
   "cell_type": "code",
   "execution_count": 86,
   "metadata": {},
   "outputs": [
    {
     "data": {
      "text/plain": [
       "True"
      ]
     },
     "execution_count": 86,
     "metadata": {},
     "output_type": "execute_result"
    }
   ],
   "source": [
    "browser['opera'].open(url, autoraise=False)"
   ]
  },
  {
   "cell_type": "code",
   "execution_count": 83,
   "metadata": {},
   "outputs": [
    {
     "data": {
      "text/plain": [
       "True"
      ]
     },
     "execution_count": 83,
     "metadata": {},
     "output_type": "execute_result"
    }
   ],
   "source": [
    "browser['opera-private'].open_new(url)"
   ]
  },
  {
   "cell_type": "code",
   "execution_count": null,
   "metadata": {},
   "outputs": [],
   "source": []
  },
  {
   "cell_type": "code",
   "execution_count": 8,
   "metadata": {},
   "outputs": [],
   "source": [
    "# from IPython.display import IFrame\n",
    "\n",
    "# url = 'https://observablehq.com/d/578e062c90d3f5ef?toto=22'\n",
    "# url = 'http://google.com'\n",
    "\n",
    "# IFrame(url, width='100%', height=400)"
   ]
  },
  {
   "cell_type": "code",
   "execution_count": 1,
   "metadata": {},
   "outputs": [],
   "source": [
    "from IPython.display import HTML"
   ]
  },
  {
   "cell_type": "code",
   "execution_count": 18,
   "metadata": {},
   "outputs": [
    {
     "name": "stdout",
     "output_type": "stream",
     "text": [
      "open in other tab/window:\n",
      "https://observablehq.com/d/578e062c90d3f5ef?toto=123&titi=abc&toto=zzz\n"
     ]
    }
   ],
   "source": [
    "def print_link(url, params=None):\n",
    "    if params:\n",
    "        _params = '?' +'&'.join([f'{e[0]}={e[1]}' for e in params])\n",
    "    else:\n",
    "        _params = ''\n",
    "#     print(_params)\n",
    "    _url = f'{url}{_params}'\n",
    "    \n",
    "    print('open in other tab/window:')\n",
    "    print(_url)\n",
    "\n",
    "#     html = f'Click on link: <a href=\"{url}\" target=\"_blank\">{_url}</a>'\n",
    "#     return HTML(html)\n",
    "\n",
    "\n",
    "url = 'https://observablehq.com/d/578e062c90d3f5ef'\n",
    "params = [\n",
    "    ['toto', '123'],\n",
    "    ['titi', 'abc'],\n",
    "    ['toto', 'zzz'],\n",
    "]\n",
    "print_link(url, params)\n"
   ]
  },
  {
   "cell_type": "code",
   "execution_count": null,
   "metadata": {},
   "outputs": [],
   "source": []
  },
  {
   "cell_type": "code",
   "execution_count": null,
   "metadata": {},
   "outputs": [],
   "source": []
  },
  {
   "cell_type": "code",
   "execution_count": null,
   "metadata": {},
   "outputs": [],
   "source": []
  },
  {
   "cell_type": "code",
   "execution_count": null,
   "metadata": {},
   "outputs": [],
   "source": []
  }
 ],
 "metadata": {
  "kernelspec": {
   "display_name": "work",
   "language": "python",
   "name": "work"
  },
  "language_info": {
   "codemirror_mode": {
    "name": "ipython",
    "version": 3
   },
   "file_extension": ".py",
   "mimetype": "text/x-python",
   "name": "python",
   "nbconvert_exporter": "python",
   "pygments_lexer": "ipython3",
   "version": "3.8.1"
  }
 },
 "nbformat": 4,
 "nbformat_minor": 4
}
