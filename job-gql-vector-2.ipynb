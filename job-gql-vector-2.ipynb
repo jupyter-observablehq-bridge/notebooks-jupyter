{
 "cells": [
  {
   "cell_type": "code",
   "execution_count": 1,
   "metadata": {},
   "outputs": [],
   "source": [
    "%load_ext autoreload\n",
    "%autoreload 2"
   ]
  },
  {
   "cell_type": "code",
   "execution_count": 2,
   "metadata": {},
   "outputs": [],
   "source": [
    "import os\n",
    "import json\n",
    "import random\n",
    "import datetime as dt\n",
    "\n",
    "from copy import deepcopy as copy\n",
    "from client_graphql import Client\n"
   ]
  },
  {
   "cell_type": "code",
   "execution_count": 3,
   "metadata": {},
   "outputs": [],
   "source": [
    "url = 'ws://localhost:4001/graphql'\n",
    "url = 'ws://192.168.39.46:30590/graphql'\n",
    "\n",
    "s = Client(url, channel='channel-1', debug=False)"
   ]
  },
  {
   "cell_type": "code",
   "execution_count": null,
   "metadata": {
    "scrolled": false
   },
   "outputs": [],
   "source": [
    "s.write('vector2', 15)"
   ]
  },
  {
   "cell_type": "code",
   "execution_count": null,
   "metadata": {},
   "outputs": [],
   "source": [
    "s.read('foo')"
   ]
  },
  {
   "cell_type": "code",
   "execution_count": null,
   "metadata": {},
   "outputs": [],
   "source": [
    "s.read_histo('foo', timestamp=True)"
   ]
  },
  {
   "cell_type": "code",
   "execution_count": null,
   "metadata": {},
   "outputs": [],
   "source": []
  },
  {
   "cell_type": "code",
   "execution_count": 4,
   "metadata": {},
   "outputs": [
    {
     "data": {
      "text/plain": [
       "\n",
       "received on top: channel-1 --> {} (12:41:45.75)\n",
       "received on channel-1: vector2 --> 19 (12:41:54.62)\n",
       "received on channel-1: vector2 --> 19 (12:42:03.27)\n",
       "received on channel-1: vector2 --> 19 (12:42:03.46)\n",
       "received on channel-1: vector2 --> 19 (12:42:03.60)\n",
       "received on channel-1: vector2 --> 20 (12:42:10.55)"
      ]
     },
     "metadata": {},
     "output_type": "display_data"
    }
   ],
   "source": [
    "class Output:\n",
    "    \"\"\"\n",
    "    Helper class\n",
    "    \"\"\"\n",
    "    def __init__(self, name='my-display', max_lines=10):\n",
    "        self.h = display(display_id=name)\n",
    "        self.content = ''\n",
    "        self.mime_type = None\n",
    "        self.max_lines = max_lines\n",
    "        self.dic_kind = {'text': 'text/plain'}\n",
    "    def display(self):\n",
    "        self.h.display({'text/plain': ''}, raw=True)\n",
    "    def limit(self, text):\n",
    "        lines = text.split('\\n')\n",
    "        lines = lines[-self.max_lines:]\n",
    "        return '\\n'.join(lines)\n",
    "    def _build_obj(self, content, kind, append, new_line):\n",
    "        self.mime_type = self.dic_kind.get(kind)\n",
    "        if not self.mime_type:\n",
    "            return content, False\n",
    "        if append:\n",
    "            sep = '\\n' if new_line else ''\n",
    "            self.content = self.limit(self.content + sep + content)\n",
    "        else:\n",
    "            self.content = content\n",
    "        return {self.mime_type: self.content}, True  \n",
    "    def update(self, content, kind=None, append=False, new_line=True):\n",
    "        obj, raw = self._build_obj(content, kind, append, new_line)\n",
    "        self.h.update(obj, raw=raw)\n",
    "        \n",
    "out = Output(name='subscribe-status')\n",
    "show_lines = []\n",
    "\n",
    "def show(channel, name, value):\n",
    "    ts = dt.datetime.now().strftime('%H:%M:%S.%f')[:-4]\n",
    "    s = f'received on {channel}: {name} --> {value} ({ts})'\n",
    "    out.update(s, kind='text', append=True)"
   ]
  },
  {
   "cell_type": "code",
   "execution_count": 5,
   "metadata": {},
   "outputs": [
    {
     "data": {
      "text/plain": [
       "\n",
       "received on top: channel-1 --> {} (12:41:45.75)\n",
       "received on channel-1: vector2 --> 19 (12:41:54.62)\n",
       "received on channel-1: vector2 --> 19 (12:42:03.27)\n",
       "received on channel-1: vector2 --> 19 (12:42:03.46)\n",
       "received on channel-1: vector2 --> 19 (12:42:03.60)\n",
       "received on channel-1: vector2 --> 20 (12:42:10.55)"
      ]
     },
     "metadata": {},
     "output_type": "display_data"
    }
   ],
   "source": [
    "out.display()"
   ]
  },
  {
   "cell_type": "code",
   "execution_count": 6,
   "metadata": {},
   "outputs": [],
   "source": [
    "ref = s.subscribe(action=show, test=lambda name: name=='vector2')"
   ]
  },
  {
   "cell_type": "code",
   "execution_count": null,
   "metadata": {},
   "outputs": [],
   "source": [
    "s.store['channel-1'].get('vector2')"
   ]
  },
  {
   "cell_type": "code",
   "execution_count": null,
   "metadata": {},
   "outputs": [],
   "source": [
    "s.subscribe_stop(ref)"
   ]
  },
  {
   "cell_type": "code",
   "execution_count": null,
   "metadata": {},
   "outputs": [],
   "source": []
  },
  {
   "cell_type": "code",
   "execution_count": null,
   "metadata": {},
   "outputs": [],
   "source": []
  }
 ],
 "metadata": {
  "kernelspec": {
   "display_name": "work",
   "language": "python",
   "name": "work"
  },
  "language_info": {
   "codemirror_mode": {
    "name": "ipython",
    "version": 3
   },
   "file_extension": ".py",
   "mimetype": "text/x-python",
   "name": "python",
   "nbconvert_exporter": "python",
   "pygments_lexer": "ipython3",
   "version": "3.8.1"
  }
 },
 "nbformat": 4,
 "nbformat_minor": 4
}
