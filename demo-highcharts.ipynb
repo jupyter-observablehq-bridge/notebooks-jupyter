{
 "cells": [
  {
   "cell_type": "code",
   "execution_count": 1,
   "metadata": {},
   "outputs": [],
   "source": [
    "%load_ext autoreload\n",
    "%autoreload 2"
   ]
  },
  {
   "cell_type": "code",
   "execution_count": 2,
   "metadata": {},
   "outputs": [],
   "source": [
    "import json\n",
    "import random\n",
    "import datetime as dt\n",
    "\n",
    "from job_client_graphql import Client\n",
    "from jupyter_cell_display import CellDisplay"
   ]
  },
  {
   "cell_type": "markdown",
   "metadata": {},
   "source": [
    "### Launch\n",
    "+ **JOB**: Jupyter ObservableHQ bridge  \n",
    "    see. [https://jupyter-observablehq-bridge/job-server-js-graphql](TBD)"
   ]
  },
  {
   "cell_type": "code",
   "execution_count": 3,
   "metadata": {},
   "outputs": [],
   "source": [
    "s = Client(host='localhost',\n",
    "           port=4001,\n",
    "           path='/graphql',\n",
    "           channel='channel-1',\n",
    "           password='mysecret',\n",
    "           debug=False)"
   ]
  },
  {
   "cell_type": "code",
   "execution_count": null,
   "metadata": {},
   "outputs": [],
   "source": []
  },
  {
   "cell_type": "markdown",
   "metadata": {},
   "source": [
    "## Write"
   ]
  },
  {
   "cell_type": "code",
   "execution_count": 4,
   "metadata": {},
   "outputs": [],
   "source": [
    "def build_hc_opts(data):\n",
    "    hc_opts = {\n",
    "        'chart': {\n",
    "            'type': 'line',\n",
    "            'zoomType': 'x',\n",
    "        },\n",
    "        'legend': {\n",
    "            'enabled': False\n",
    "        },\n",
    "        'subtitle': {\n",
    "            'text': 'Live'\n",
    "        },\n",
    "        'title': {\n",
    "            'text': 'Data from Jupyter notebook'\n",
    "        },\n",
    "        'tooltip': {\n",
    "            'enabled': True\n",
    "        },\n",
    "        'xAxis': {\n",
    "            'type': 'datetime'\n",
    "        },\n",
    "        'yAxis': {\n",
    "            'title': {\n",
    "            'text': 'Value'\n",
    "            }\n",
    "        },\n",
    "        'plotOptions': {\n",
    "            'series': {\n",
    "                'animation': False\n",
    "            }\n",
    "        },\n",
    "        'series': [{\n",
    "            'name': 'jupyter-data',\n",
    "            'data': data\n",
    "        }]\n",
    "    }\n",
    "    return hc_opts\n",
    "\n",
    "def rnd():\n",
    "    return random.randint(1, 10)\n",
    "\n",
    "def to_unixtime(x):\n",
    "    return x.timestamp()*1000"
   ]
  },
  {
   "cell_type": "code",
   "execution_count": null,
   "metadata": {},
   "outputs": [],
   "source": []
  },
  {
   "cell_type": "code",
   "execution_count": 5,
   "metadata": {},
   "outputs": [],
   "source": [
    "N = 30\n",
    "data = []\n",
    "now = dt.datetime.now()\n",
    "for i in range (N):\n",
    "    t = now + dt.timedelta(seconds=-N+i)\n",
    "    data.append([to_unixtime(t), rnd()])\n",
    "\n",
    "def update(x=None):\n",
    "    if not x:\n",
    "        x = rnd()\n",
    "    print(x)\n",
    "    t = dt.datetime.now()\n",
    "    data.append([to_unixtime(t), x])\n"
   ]
  },
  {
   "cell_type": "code",
   "execution_count": 6,
   "metadata": {},
   "outputs": [
    {
     "name": "stdout",
     "output_type": "stream",
     "text": [
      "7\n"
     ]
    },
    {
     "data": {
      "text/plain": [
       "True"
      ]
     },
     "execution_count": 6,
     "metadata": {},
     "output_type": "execute_result"
    }
   ],
   "source": [
    "update()\n",
    "hc_opts = build_hc_opts(data)\n",
    "s.write('hcOpts', json.dumps(hc_opts))"
   ]
  },
  {
   "cell_type": "markdown",
   "metadata": {},
   "source": [
    "## Open ObservableHQ notebook"
   ]
  },
  {
   "cell_type": "code",
   "execution_count": 8,
   "metadata": {},
   "outputs": [
    {
     "name": "stdout",
     "output_type": "stream",
     "text": [
      "Open: https://observablehq.com/d/59dd970574f9cb15?host=localhost&port=4001&path=/graphql\n"
     ]
    }
   ],
   "source": [
    "url_nb = 'https://observablehq.com/d/59dd970574f9cb15'\n",
    "url = url_nb+s.url_params\n",
    "print(f'Open: {url}')"
   ]
  },
  {
   "cell_type": "code",
   "execution_count": null,
   "metadata": {},
   "outputs": [],
   "source": []
  },
  {
   "cell_type": "markdown",
   "metadata": {},
   "source": [
    "## Subscribe"
   ]
  },
  {
   "cell_type": "markdown",
   "metadata": {},
   "source": [
    "### DISPLAY"
   ]
  },
  {
   "cell_type": "code",
   "execution_count": null,
   "metadata": {},
   "outputs": [],
   "source": [
    "out = CellDisplay(name='subscribe-status', max_lines=8)\n",
    "show_lines = []\n",
    "\n",
    "def show(channel, name, value):\n",
    "    ts = dt.datetime.now().strftime('%H:%M:%S.%f')[:-4]\n",
    "    s = f'received on {channel}: {name} --> {value} ({ts})'\n",
    "    out.update(s, kind='text', append=True)"
   ]
  },
  {
   "cell_type": "code",
   "execution_count": null,
   "metadata": {},
   "outputs": [],
   "source": [
    "out.display()"
   ]
  },
  {
   "cell_type": "code",
   "execution_count": null,
   "metadata": {},
   "outputs": [],
   "source": [
    "out.clear()"
   ]
  },
  {
   "cell_type": "markdown",
   "metadata": {},
   "source": [
    "### START"
   ]
  },
  {
   "cell_type": "code",
   "execution_count": 32,
   "metadata": {},
   "outputs": [],
   "source": [
    "ref = s.subscribe(action=show)"
   ]
  },
  {
   "cell_type": "markdown",
   "metadata": {},
   "source": [
    "### STOP"
   ]
  },
  {
   "cell_type": "code",
   "execution_count": 24,
   "metadata": {},
   "outputs": [
    {
     "name": "stdout",
     "output_type": "stream",
     "text": [
      "subscribe ref vnFg00 stopped\n"
     ]
    }
   ],
   "source": [
    "s.subscribe_stop(ref)"
   ]
  },
  {
   "cell_type": "code",
   "execution_count": null,
   "metadata": {},
   "outputs": [],
   "source": []
  },
  {
   "cell_type": "markdown",
   "metadata": {},
   "source": [
    "## Read"
   ]
  },
  {
   "cell_type": "code",
   "execution_count": 33,
   "metadata": {},
   "outputs": [
    {
     "data": {
      "text/plain": [
       "'{\"max\":1586883693845.0652,\"min\":1586883692717.7373}'"
      ]
     },
     "execution_count": 33,
     "metadata": {},
     "output_type": "execute_result"
    }
   ],
   "source": [
    "name = 'min-max'\n",
    "s.read(name)"
   ]
  },
  {
   "cell_type": "code",
   "execution_count": null,
   "metadata": {},
   "outputs": [],
   "source": []
  },
  {
   "cell_type": "markdown",
   "metadata": {},
   "source": [
    "## Read w/ Histo"
   ]
  },
  {
   "cell_type": "code",
   "execution_count": 34,
   "metadata": {},
   "outputs": [
    {
     "data": {
      "text/plain": [
       "[{'value': '{\"max\":1586883693845.0652,\"min\":1586883692717.7373}',\n",
       "  'timestamp': datetime.datetime(2020, 4, 14, 17, 2, 9, 587000)},\n",
       " {'value': '{\"max\":1586883696192.2632,\"min\":1586883688780.502}',\n",
       "  'timestamp': datetime.datetime(2020, 4, 14, 17, 2, 7, 930000)},\n",
       " {'value': '{\"min\":0,\"max\":0}',\n",
       "  'timestamp': datetime.datetime(2020, 4, 14, 17, 1, 36, 557000)},\n",
       " {'value': '{\"min\":0,\"max\":0}',\n",
       "  'timestamp': datetime.datetime(2020, 4, 14, 17, 1, 23, 411000)}]"
      ]
     },
     "execution_count": 34,
     "metadata": {},
     "output_type": "execute_result"
    }
   ],
   "source": [
    "name = 'min-max'\n",
    "s.read_histo(name, 4, timestamp=True)"
   ]
  },
  {
   "cell_type": "code",
   "execution_count": null,
   "metadata": {},
   "outputs": [],
   "source": []
  },
  {
   "cell_type": "markdown",
   "metadata": {},
   "source": [
    "## Store"
   ]
  },
  {
   "cell_type": "code",
   "execution_count": 35,
   "metadata": {},
   "outputs": [
    {
     "data": {
      "text/plain": [
       "{'channel-1': {'min-max': '{\"max\":1586883693845.0652,\"min\":1586883692717.7373}'}}"
      ]
     },
     "execution_count": 35,
     "metadata": {},
     "output_type": "execute_result"
    }
   ],
   "source": [
    "s.store"
   ]
  },
  {
   "cell_type": "code",
   "execution_count": null,
   "metadata": {},
   "outputs": [],
   "source": []
  },
  {
   "cell_type": "code",
   "execution_count": null,
   "metadata": {},
   "outputs": [],
   "source": []
  },
  {
   "cell_type": "code",
   "execution_count": null,
   "metadata": {},
   "outputs": [],
   "source": []
  },
  {
   "cell_type": "code",
   "execution_count": null,
   "metadata": {},
   "outputs": [],
   "source": []
  }
 ],
 "metadata": {
  "kernelspec": {
   "display_name": "work",
   "language": "python",
   "name": "work"
  },
  "language_info": {
   "codemirror_mode": {
    "name": "ipython",
    "version": 3
   },
   "file_extension": ".py",
   "mimetype": "text/x-python",
   "name": "python",
   "nbconvert_exporter": "python",
   "pygments_lexer": "ipython3",
   "version": "3.8.1"
  }
 },
 "nbformat": 4,
 "nbformat_minor": 4
}
