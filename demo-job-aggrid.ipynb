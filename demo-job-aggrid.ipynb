{
 "cells": [
  {
   "cell_type": "code",
   "execution_count": 1,
   "metadata": {},
   "outputs": [],
   "source": [
    "%load_ext autoreload\n",
    "%autoreload 2"
   ]
  },
  {
   "cell_type": "code",
   "execution_count": 2,
   "metadata": {},
   "outputs": [],
   "source": [
    "import json\n",
    "import random\n",
    "import datetime as dt\n",
    "import requests as rq\n",
    "import pandas as pd\n",
    "\n",
    "from job_client_graphql import Client, CellDisplay"
   ]
  },
  {
   "cell_type": "markdown",
   "metadata": {},
   "source": [
    "## Prerequisite\n",
    "+ Launch JOB server - see [documentation](TBD) section **5-Examples**"
   ]
  },
  {
   "cell_type": "code",
   "execution_count": 3,
   "metadata": {},
   "outputs": [],
   "source": [
    "pages = {\n",
    "    'aggrid': 'https://observablehq.com/@oscar6echo/job-example-aggrid',\n",
    "}"
   ]
  },
  {
   "cell_type": "code",
   "execution_count": 4,
   "metadata": {},
   "outputs": [
    {
     "name": "stdout",
     "output_type": "stream",
     "text": [
      "https://observablehq.com/@oscar6echo/job-example-aggrid?host=localhost&port=4001&path=/graphql&ssl=False&channel=channel-1\n"
     ]
    },
    {
     "data": {
      "text/html": [
       "\n",
       "        <div style=\"display: flex; align-items: center\">\n",
       "            <div style=\"\n",
       "        margin-right: 20px;;\n",
       "        \">Page <span style=\"color:red;\">AGGRID</span></div>\n",
       "            <button style=\"\n",
       "        background-color:light-grey;\n",
       "        width: 200px;\n",
       "        \n",
       "        margin-right: 20px;;\n",
       "        \" onclick=\"window.open('https://observablehq.com/@oscar6echo/job-example-aggrid?host=localhost&port=4001&path=/graphql&ssl=False&channel=channel-1', '_blank'); return false;\">Open in new tab</button>\n",
       "            <button style=\"\n",
       "        background-color:light-grey;\n",
       "        width: 200px;\n",
       "        \" onclick=\"\n",
       "            const el = document.createElement('textarea');\n",
       "            el.value = `https://observablehq.com/@oscar6echo/job-example-aggrid?host=localhost&port=4001&path=/graphql&ssl=False&channel=channel-1`;\n",
       "            document.body.appendChild(el);\n",
       "            el.select();\n",
       "            document.execCommand('copy');\n",
       "            document.body.removeChild(el);\n",
       "        \">Copy url to clipboard </button>\n",
       "        </div>\n",
       "        "
      ],
      "text/plain": [
       "<IPython.core.display.HTML object>"
      ]
     },
     "metadata": {},
     "output_type": "display_data"
    }
   ],
   "source": [
    "s = Client(server_url='http://localhost:4001/graphql',\n",
    "           default_channel='channel-1',\n",
    "           password='mysecret',\n",
    "           pages=pages,         \n",
    "           debug=False)\n",
    "print(s.build_url('aggrid'))\n",
    "s.show_btn_page('aggrid')"
   ]
  },
  {
   "cell_type": "code",
   "execution_count": 5,
   "metadata": {},
   "outputs": [
    {
     "name": "stdout",
     "output_type": "stream",
     "text": [
      "nb lines = 8618\n"
     ]
    }
   ],
   "source": [
    "url = 'https://raw.githubusercontent.com/ag-grid/ag-grid/master/grid-packages/ag-grid-docs/src/olympicWinnersSmall.json'\n",
    "data = json.loads(rq.get(url).text)\n",
    "print(f'nb lines = {len(data)}')\n"
   ]
  },
  {
   "cell_type": "code",
   "execution_count": 6,
   "metadata": {},
   "outputs": [
    {
     "name": "stdout",
     "output_type": "stream",
     "text": [
      "<class 'pandas.core.frame.DataFrame'>\n",
      "RangeIndex: 8618 entries, 0 to 8617\n",
      "Data columns (total 10 columns):\n",
      "age        8613 non-null float64\n",
      "athlete    8618 non-null object\n",
      "bronze     8618 non-null int64\n",
      "country    8618 non-null object\n",
      "date       8618 non-null object\n",
      "gold       8618 non-null int64\n",
      "silver     8618 non-null int64\n",
      "sport      8618 non-null object\n",
      "total      8618 non-null int64\n",
      "year       8618 non-null int64\n",
      "dtypes: float64(1), int64(5), object(4)\n",
      "memory usage: 673.4+ KB\n"
     ]
    }
   ],
   "source": [
    "df = pd.DataFrame(data)\n",
    "df.info()"
   ]
  },
  {
   "cell_type": "code",
   "execution_count": null,
   "metadata": {},
   "outputs": [],
   "source": []
  },
  {
   "cell_type": "markdown",
   "metadata": {},
   "source": [
    "## Write"
   ]
  },
  {
   "cell_type": "code",
   "execution_count": 7,
   "metadata": {},
   "outputs": [],
   "source": [
    "def build_grid_options(df):\n",
    "    col_defs = [{'field': c} for c in df.columns]\n",
    "    grid_options = {\n",
    "        'columnDefs': col_defs,\n",
    "        'defaultColDef': {\n",
    "            'editable': True,\n",
    "            'sortable': True,\n",
    "            'filter': True,\n",
    "            'resizable': True\n",
    "        },\n",
    "        'rowSelection': 'single',\n",
    "        'rowData': df.iloc[:100, :].to_dict(orient='records'),\n",
    "    }\n",
    "    return grid_options\n"
   ]
  },
  {
   "cell_type": "code",
   "execution_count": 8,
   "metadata": {},
   "outputs": [
    {
     "data": {
      "text/plain": [
       "True"
      ]
     },
     "execution_count": 8,
     "metadata": {},
     "output_type": "execute_result"
    }
   ],
   "source": [
    "grid_options = build_grid_options(df)\n",
    "s.publish_write('grid', json.dumps({'gridOptions': grid_options}))"
   ]
  },
  {
   "cell_type": "code",
   "execution_count": null,
   "metadata": {},
   "outputs": [],
   "source": []
  },
  {
   "cell_type": "markdown",
   "metadata": {},
   "source": [
    "## Subscribe"
   ]
  },
  {
   "cell_type": "markdown",
   "metadata": {},
   "source": [
    "### DISPLAY"
   ]
  },
  {
   "cell_type": "code",
   "execution_count": 9,
   "metadata": {},
   "outputs": [
    {
     "data": {
      "text/plain": [
       "\n",
       "received on channel-1: grid-row --> {\"age\":24,\"athlete\":\"Aleksey Nemov\",\"bronze\":3,\"country\":\"Russia\",\"date\":\"01/10/2000\",\"gold\":2,\"silver\":1,\"sport\":\"Gymnastics\",\"total\":6,\"year\":2000} (22:56:43.88)\n",
       "received on channel-1: grid-row --> {\"age\":27,\"athlete\":\"Ryan Lochte\",\"bronze\":1,\"country\":\"United States\",\"date\":\"12/08/2012\",\"gold\":2,\"silver\":2,\"sport\":\"Swimming\",\"total\":5,\"year\":2012} (22:56:45.50)\n",
       "received on channel-1: grid-row --> {\"age\":17,\"athlete\":\"Ian Thorpe\",\"bronze\":0,\"country\":\"Australia\",\"date\":\"01/10/2000\",\"gold\":3,\"silver\":2,\"sport\":\"Swimming\",\"total\":5,\"year\":2000} (22:56:47.24)"
      ]
     },
     "metadata": {},
     "output_type": "display_data"
    }
   ],
   "source": [
    "out = CellDisplay(name='subscribe-status', max_lines=8)\n",
    "show_lines = []\n",
    "\n",
    "def show(channel, name, value):\n",
    "    ts = dt.datetime.now().strftime('%H:%M:%S.%f')[:-4]\n",
    "    s = f'received on {channel}: {name} --> {value} ({ts})'\n",
    "    out.update(s, kind='text', append=True)"
   ]
  },
  {
   "cell_type": "code",
   "execution_count": 10,
   "metadata": {},
   "outputs": [
    {
     "data": {
      "text/plain": [
       "\n",
       "received on channel-1: grid-row --> {\"age\":24,\"athlete\":\"Aleksey Nemov\",\"bronze\":3,\"country\":\"Russia\",\"date\":\"01/10/2000\",\"gold\":2,\"silver\":1,\"sport\":\"Gymnastics\",\"total\":6,\"year\":2000} (22:56:43.88)\n",
       "received on channel-1: grid-row --> {\"age\":27,\"athlete\":\"Ryan Lochte\",\"bronze\":1,\"country\":\"United States\",\"date\":\"12/08/2012\",\"gold\":2,\"silver\":2,\"sport\":\"Swimming\",\"total\":5,\"year\":2012} (22:56:45.50)\n",
       "received on channel-1: grid-row --> {\"age\":17,\"athlete\":\"Ian Thorpe\",\"bronze\":0,\"country\":\"Australia\",\"date\":\"01/10/2000\",\"gold\":3,\"silver\":2,\"sport\":\"Swimming\",\"total\":5,\"year\":2000} (22:56:47.24)"
      ]
     },
     "metadata": {},
     "output_type": "display_data"
    }
   ],
   "source": [
    "out.display()"
   ]
  },
  {
   "cell_type": "markdown",
   "metadata": {},
   "source": [
    "### START"
   ]
  },
  {
   "cell_type": "code",
   "execution_count": 11,
   "metadata": {},
   "outputs": [],
   "source": [
    "ref = s.subscribe(action=show, test=lambda x: x=='grid-row')"
   ]
  },
  {
   "cell_type": "markdown",
   "metadata": {},
   "source": [
    "### STOP"
   ]
  },
  {
   "cell_type": "code",
   "execution_count": 12,
   "metadata": {},
   "outputs": [
    {
     "name": "stdout",
     "output_type": "stream",
     "text": [
      "subscription ref=WT9vNm stopped\n"
     ]
    }
   ],
   "source": [
    "s.subscribe_stop(ref)"
   ]
  },
  {
   "cell_type": "code",
   "execution_count": null,
   "metadata": {},
   "outputs": [],
   "source": []
  },
  {
   "cell_type": "markdown",
   "metadata": {},
   "source": [
    "## Read"
   ]
  },
  {
   "cell_type": "code",
   "execution_count": 13,
   "metadata": {},
   "outputs": [
    {
     "data": {
      "text/plain": [
       "{'age': 24,\n",
       " 'athlete': 'Alicia Coutts',\n",
       " 'bronze': 1,\n",
       " 'country': 'Australia',\n",
       " 'date': '12/08/2012',\n",
       " 'gold': 1,\n",
       " 'silver': 3,\n",
       " 'sport': 'Swimming',\n",
       " 'total': 5,\n",
       " 'year': 2012}"
      ]
     },
     "execution_count": 13,
     "metadata": {},
     "output_type": "execute_result"
    }
   ],
   "source": [
    "name = 'grid-row'\n",
    "s.read(name)"
   ]
  },
  {
   "cell_type": "code",
   "execution_count": null,
   "metadata": {},
   "outputs": [],
   "source": []
  },
  {
   "cell_type": "markdown",
   "metadata": {},
   "source": [
    "## Read w/ Histo"
   ]
  },
  {
   "cell_type": "code",
   "execution_count": 14,
   "metadata": {},
   "outputs": [
    {
     "data": {
      "text/plain": [
       "[{'value': {'age': 24,\n",
       "   'athlete': 'Alicia Coutts',\n",
       "   'bronze': 1,\n",
       "   'country': 'Australia',\n",
       "   'date': '12/08/2012',\n",
       "   'gold': 1,\n",
       "   'silver': 3,\n",
       "   'sport': 'Swimming',\n",
       "   'total': 5,\n",
       "   'year': 2012},\n",
       "  'timestamp': datetime.datetime(2020, 5, 17, 20, 56, 53, 599000)},\n",
       " {'value': {'age': 17,\n",
       "   'athlete': 'Ian Thorpe',\n",
       "   'bronze': 0,\n",
       "   'country': 'Australia',\n",
       "   'date': '01/10/2000',\n",
       "   'gold': 3,\n",
       "   'silver': 2,\n",
       "   'sport': 'Swimming',\n",
       "   'total': 5,\n",
       "   'year': 2000},\n",
       "  'timestamp': datetime.datetime(2020, 5, 17, 20, 56, 47, 246000)},\n",
       " {'value': {'age': 27,\n",
       "   'athlete': 'Ryan Lochte',\n",
       "   'bronze': 1,\n",
       "   'country': 'United States',\n",
       "   'date': '12/08/2012',\n",
       "   'gold': 2,\n",
       "   'silver': 2,\n",
       "   'sport': 'Swimming',\n",
       "   'total': 5,\n",
       "   'year': 2012},\n",
       "  'timestamp': datetime.datetime(2020, 5, 17, 20, 56, 45, 505000)},\n",
       " {'value': {'age': 24,\n",
       "   'athlete': 'Aleksey Nemov',\n",
       "   'bronze': 3,\n",
       "   'country': 'Russia',\n",
       "   'date': '01/10/2000',\n",
       "   'gold': 2,\n",
       "   'silver': 1,\n",
       "   'sport': 'Gymnastics',\n",
       "   'total': 6,\n",
       "   'year': 2000},\n",
       "  'timestamp': datetime.datetime(2020, 5, 17, 20, 56, 43, 880000)}]"
      ]
     },
     "execution_count": 14,
     "metadata": {},
     "output_type": "execute_result"
    }
   ],
   "source": [
    "name = 'grid-row'\n",
    "s.read_histo(name, 4, timestamp=True)"
   ]
  },
  {
   "cell_type": "code",
   "execution_count": null,
   "metadata": {},
   "outputs": [],
   "source": []
  },
  {
   "cell_type": "markdown",
   "metadata": {},
   "source": [
    "## Store"
   ]
  },
  {
   "cell_type": "code",
   "execution_count": 15,
   "metadata": {},
   "outputs": [
    {
     "data": {
      "text/plain": [
       "{'channel-1': {'grid-row': {'age': 24,\n",
       "   'athlete': 'Alicia Coutts',\n",
       "   'bronze': 1,\n",
       "   'country': 'Australia',\n",
       "   'date': '12/08/2012',\n",
       "   'gold': 1,\n",
       "   'silver': 3,\n",
       "   'sport': 'Swimming',\n",
       "   'total': 5,\n",
       "   'year': 2012}}}"
      ]
     },
     "execution_count": 15,
     "metadata": {},
     "output_type": "execute_result"
    }
   ],
   "source": [
    "s.store"
   ]
  },
  {
   "cell_type": "code",
   "execution_count": null,
   "metadata": {},
   "outputs": [],
   "source": []
  },
  {
   "cell_type": "code",
   "execution_count": null,
   "metadata": {},
   "outputs": [],
   "source": []
  },
  {
   "cell_type": "code",
   "execution_count": null,
   "metadata": {},
   "outputs": [],
   "source": []
  },
  {
   "cell_type": "code",
   "execution_count": null,
   "metadata": {},
   "outputs": [],
   "source": []
  },
  {
   "cell_type": "code",
   "execution_count": null,
   "metadata": {},
   "outputs": [],
   "source": []
  },
  {
   "cell_type": "code",
   "execution_count": null,
   "metadata": {},
   "outputs": [],
   "source": []
  },
  {
   "cell_type": "code",
   "execution_count": null,
   "metadata": {},
   "outputs": [],
   "source": []
  },
  {
   "cell_type": "code",
   "execution_count": null,
   "metadata": {},
   "outputs": [],
   "source": [
    "s.publish_write('grid', None, add_histo=False)"
   ]
  },
  {
   "cell_type": "code",
   "execution_count": null,
   "metadata": {},
   "outputs": [],
   "source": []
  },
  {
   "cell_type": "code",
   "execution_count": null,
   "metadata": {},
   "outputs": [],
   "source": []
  }
 ],
 "metadata": {
  "kernelspec": {
   "display_name": "work",
   "language": "python",
   "name": "work"
  },
  "language_info": {
   "codemirror_mode": {
    "name": "ipython",
    "version": 3
   },
   "file_extension": ".py",
   "mimetype": "text/x-python",
   "name": "python",
   "nbconvert_exporter": "python",
   "pygments_lexer": "ipython3",
   "version": "3.8.1"
  }
 },
 "nbformat": 4,
 "nbformat_minor": 4
}
