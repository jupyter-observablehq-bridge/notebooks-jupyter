{
 "cells": [
  {
   "cell_type": "code",
   "execution_count": 9,
   "metadata": {},
   "outputs": [
    {
     "name": "stdout",
     "output_type": "stream",
     "text": [
      "The autoreload extension is already loaded. To reload it, use:\n",
      "  %reload_ext autoreload\n"
     ]
    }
   ],
   "source": [
    "%load_ext autoreload\n",
    "%autoreload 2"
   ]
  },
  {
   "cell_type": "code",
   "execution_count": 10,
   "metadata": {},
   "outputs": [],
   "source": [
    "import random\n",
    "import datetime as dt\n",
    "\n",
    "from job_client_graphql import Client, CellDisplay"
   ]
  },
  {
   "cell_type": "markdown",
   "metadata": {},
   "source": [
    "## Prerequisite\n",
    "+ Launch JOB server - see [documentation](TBD) section **5-Examples**"
   ]
  },
  {
   "cell_type": "code",
   "execution_count": 11,
   "metadata": {},
   "outputs": [],
   "source": [
    "pages = {\n",
    "    'auth': 'https://observablehq.com/@oscar6echo/job-example-authentication',\n",
    "}"
   ]
  },
  {
   "cell_type": "code",
   "execution_count": 12,
   "metadata": {},
   "outputs": [
    {
     "name": "stdout",
     "output_type": "stream",
     "text": [
      "https://observablehq.com/@oscar6echo/job-example-authentication?host=localhost&port=4001&path=/graphql&ssl=False&channel=channel-1&key=kkk&alert=aaa\n"
     ]
    },
    {
     "data": {
      "text/html": [
       "\n",
       "        <div style=\"display: flex; align-items: center\">\n",
       "            <div style=\"\n",
       "        margin-right: 20px;;\n",
       "        \">Page <span style=\"color:red;\">AUTH</span></div>\n",
       "            <button style=\"\n",
       "        background-color:light-grey;\n",
       "        width: 200px;\n",
       "        \n",
       "        margin-right: 20px;;\n",
       "        \" onclick=\"window.open('https://observablehq.com/@oscar6echo/job-example-authentication?host=localhost&port=4001&path=/graphql&ssl=False&channel=channel-1&key=kkk&alert=aaa', '_blank'); return false;\">Open in new tab</button>\n",
       "            <button style=\"\n",
       "        background-color:light-grey;\n",
       "        width: 200px;\n",
       "        \" onclick=\"\n",
       "            const el = document.createElement('textarea');\n",
       "            el.value = `https://observablehq.com/@oscar6echo/job-example-authentication?host=localhost&port=4001&path=/graphql&ssl=False&channel=channel-1&key=kkk&alert=aaa`;\n",
       "            document.body.appendChild(el);\n",
       "            el.select();\n",
       "            document.execCommand('copy');\n",
       "            document.body.removeChild(el);\n",
       "        \">Copy url to clipboard </button>\n",
       "        </div>\n",
       "        "
      ],
      "text/plain": [
       "<IPython.core.display.HTML object>"
      ]
     },
     "metadata": {},
     "output_type": "display_data"
    }
   ],
   "source": [
    "s = Client(server_url='http://localhost:4001/graphql',\n",
    "           default_channel='channel-1',\n",
    "           password='mysecret',\n",
    "           pages=pages,\n",
    "           alert='aaa',\n",
    "           key='kkk',\n",
    "           debug=False)\n",
    "print(s.build_url('auth'))\n",
    "s.show_btn_page('auth')"
   ]
  },
  {
   "cell_type": "code",
   "execution_count": null,
   "metadata": {},
   "outputs": [],
   "source": [
    "s.subscribe_auth()"
   ]
  },
  {
   "cell_type": "code",
   "execution_count": null,
   "metadata": {},
   "outputs": [],
   "source": []
  },
  {
   "cell_type": "code",
   "execution_count": null,
   "metadata": {},
   "outputs": [],
   "source": [
    "s.store.get('auth')"
   ]
  },
  {
   "cell_type": "code",
   "execution_count": null,
   "metadata": {},
   "outputs": [],
   "source": [
    "# s.stop_subscribe_auth()"
   ]
  },
  {
   "cell_type": "code",
   "execution_count": null,
   "metadata": {},
   "outputs": [],
   "source": []
  },
  {
   "cell_type": "code",
   "execution_count": null,
   "metadata": {},
   "outputs": [],
   "source": []
  }
 ],
 "metadata": {
  "kernelspec": {
   "display_name": "work",
   "language": "python",
   "name": "work"
  },
  "language_info": {
   "codemirror_mode": {
    "name": "ipython",
    "version": 3
   },
   "file_extension": ".py",
   "mimetype": "text/x-python",
   "name": "python",
   "nbconvert_exporter": "python",
   "pygments_lexer": "ipython3",
   "version": "3.8.1"
  }
 },
 "nbformat": 4,
 "nbformat_minor": 4
}
