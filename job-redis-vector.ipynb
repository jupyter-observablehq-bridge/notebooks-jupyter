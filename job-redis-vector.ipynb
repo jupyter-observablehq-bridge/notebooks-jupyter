{
 "cells": [
  {
   "cell_type": "code",
   "execution_count": 1,
   "metadata": {},
   "outputs": [],
   "source": [
    "%load_ext autoreload\n",
    "%autoreload 2"
   ]
  },
  {
   "cell_type": "code",
   "execution_count": 2,
   "metadata": {},
   "outputs": [],
   "source": [
    "import os\n",
    "import json\n",
    "import random\n",
    "import datetime as dt\n",
    "\n",
    "from copy import deepcopy as copy\n",
    "from client_redis import Client\n"
   ]
  },
  {
   "cell_type": "code",
   "execution_count": 3,
   "metadata": {},
   "outputs": [],
   "source": [
    "s = Client(channels=['channel-1'], debug=False)"
   ]
  },
  {
   "cell_type": "code",
   "execution_count": 4,
   "metadata": {},
   "outputs": [
    {
     "data": {
      "text/plain": [
       "received on channel-1: vector2 --> {\"x\":105,\"y\":-26} (14:54:22.62)\n",
       "received on channel-1: vector2 --> {\"x\":112,\"y\":-30} (14:54:22.63)\n",
       "received on channel-1: vector2 --> {\"x\":116,\"y\":-33} (14:54:22.65)\n",
       "received on channel-1: vector2 --> {\"x\":126,\"y\":-38} (14:54:22.67)\n",
       "received on channel-1: vector2 --> {\"x\":131,\"y\":-43} (14:54:22.68)\n",
       "received on channel-1: vector2 --> {\"x\":137,\"y\":-48} (14:54:22.70)\n",
       "received on channel-1: vector2 --> {\"x\":140,\"y\":-49} (14:54:22.72)\n",
       "received on channel-1: vector2 --> {\"x\":143,\"y\":-51} (14:54:22.73)\n",
       "received on channel-1: vector2 --> {\"x\":144,\"y\":-51} (14:54:22.75)\n",
       "received on channel-1: vector2 --> {\"x\":147,\"y\":-51} (14:54:22.77)"
      ]
     },
     "metadata": {},
     "output_type": "display_data"
    }
   ],
   "source": [
    "class Output:\n",
    "    \"\"\"\n",
    "    Helper class\n",
    "    \"\"\"\n",
    "    def __init__(self, name='my-display', max_lines=10):\n",
    "        self.h = display(display_id=name)\n",
    "        self.content = ''\n",
    "        self.mime_type = None\n",
    "        self.max_lines = max_lines\n",
    "        self.dic_kind = {'text': 'text/plain'}\n",
    "    def display(self):\n",
    "        self.h.display({'text/plain': ''}, raw=True)\n",
    "    def limit(self, text):\n",
    "        lines = text.split('\\n')\n",
    "        lines = lines[-self.max_lines:]\n",
    "        return '\\n'.join(lines)\n",
    "    def _build_obj(self, content, kind, append, new_line):\n",
    "        self.mime_type = self.dic_kind.get(kind)\n",
    "        if not self.mime_type:\n",
    "            return content, False\n",
    "        if append:\n",
    "            sep = '\\n' if new_line else ''\n",
    "            self.content = self.limit(self.content + sep + content)\n",
    "        else:\n",
    "            self.content = content\n",
    "        return {self.mime_type: self.content}, True  \n",
    "    def update(self, content, kind=None, append=False, new_line=True):\n",
    "        obj, raw = self._build_obj(content, kind, append, new_line)\n",
    "        self.h.update(obj, raw=raw)\n",
    "        \n",
    "out = Output(name='subscribe-status')\n",
    "show_lines = []\n",
    "\n",
    "def show(channel, name, value):\n",
    "    ts = dt.datetime.now().strftime('%H:%M:%S.%f')[:-4]\n",
    "    s = f'received on {channel}: {name} --> {value} ({ts})'\n",
    "    out.update(s, kind='text', append=True)"
   ]
  },
  {
   "cell_type": "code",
   "execution_count": 5,
   "metadata": {},
   "outputs": [
    {
     "data": {
      "text/plain": [
       "received on channel-1: vector2 --> {\"x\":105,\"y\":-26} (14:54:22.62)\n",
       "received on channel-1: vector2 --> {\"x\":112,\"y\":-30} (14:54:22.63)\n",
       "received on channel-1: vector2 --> {\"x\":116,\"y\":-33} (14:54:22.65)\n",
       "received on channel-1: vector2 --> {\"x\":126,\"y\":-38} (14:54:22.67)\n",
       "received on channel-1: vector2 --> {\"x\":131,\"y\":-43} (14:54:22.68)\n",
       "received on channel-1: vector2 --> {\"x\":137,\"y\":-48} (14:54:22.70)\n",
       "received on channel-1: vector2 --> {\"x\":140,\"y\":-49} (14:54:22.72)\n",
       "received on channel-1: vector2 --> {\"x\":143,\"y\":-51} (14:54:22.73)\n",
       "received on channel-1: vector2 --> {\"x\":144,\"y\":-51} (14:54:22.75)\n",
       "received on channel-1: vector2 --> {\"x\":147,\"y\":-51} (14:54:22.77)"
      ]
     },
     "metadata": {},
     "output_type": "display_data"
    }
   ],
   "source": [
    "out.display()"
   ]
  },
  {
   "cell_type": "code",
   "execution_count": 6,
   "metadata": {},
   "outputs": [],
   "source": [
    "s.subscribe(action=show, test=lambda name: name=='vector2')"
   ]
  },
  {
   "cell_type": "code",
   "execution_count": 10,
   "metadata": {},
   "outputs": [
    {
     "data": {
      "text/plain": [
       "'{\"x\":164,\"y\":-56}'"
      ]
     },
     "execution_count": 10,
     "metadata": {},
     "output_type": "execute_result"
    }
   ],
   "source": [
    "s.store['channel-1']['vector2']"
   ]
  },
  {
   "cell_type": "code",
   "execution_count": 12,
   "metadata": {},
   "outputs": [],
   "source": [
    "s.subscribe_stop()"
   ]
  },
  {
   "cell_type": "code",
   "execution_count": null,
   "metadata": {},
   "outputs": [],
   "source": []
  },
  {
   "cell_type": "code",
   "execution_count": null,
   "metadata": {},
   "outputs": [],
   "source": []
  }
 ],
 "metadata": {
  "kernelspec": {
   "display_name": "work",
   "language": "python",
   "name": "work"
  },
  "language_info": {
   "codemirror_mode": {
    "name": "ipython",
    "version": 3
   },
   "file_extension": ".py",
   "mimetype": "text/x-python",
   "name": "python",
   "nbconvert_exporter": "python",
   "pygments_lexer": "ipython3",
   "version": "3.8.1"
  }
 },
 "nbformat": 4,
 "nbformat_minor": 4
}
