{
 "cells": [
  {
   "cell_type": "code",
   "execution_count": 1,
   "metadata": {},
   "outputs": [],
   "source": [
    "%load_ext autoreload\n",
    "%autoreload 2"
   ]
  },
  {
   "cell_type": "code",
   "execution_count": 2,
   "metadata": {},
   "outputs": [],
   "source": [
    "import random\n",
    "import datetime as dt\n",
    "\n",
    "from job_client_graphql import Client, CellDisplay"
   ]
  },
  {
   "cell_type": "markdown",
   "metadata": {},
   "source": [
    "## Prerequisite\n",
    "+ Launch JOB server - see [documentation](TBD) section **5-Examples**"
   ]
  },
  {
   "cell_type": "code",
   "execution_count": 3,
   "metadata": {},
   "outputs": [],
   "source": [
    "pages = {\n",
    "    'slider-2d': 'https://observablehq.com/@oscar6echo/job-example-sliders',\n",
    "}"
   ]
  },
  {
   "cell_type": "code",
   "execution_count": 4,
   "metadata": {},
   "outputs": [
    {
     "name": "stdout",
     "output_type": "stream",
     "text": [
      "https://observablehq.com/@oscar6echo/job-example-sliders?host=localhost&port=4001&path=/graphql&ssl=False&channel=channel-1\n"
     ]
    },
    {
     "data": {
      "text/html": [
       "\n",
       "        <div style=\"display: flex; align-items: center\">\n",
       "            <div style=\"\n",
       "        margin-right: 20px;;\n",
       "        \">Page <span style=\"color:red;\">SLIDER-2D</span></div>\n",
       "            <button style=\"\n",
       "        background-color:light-grey;\n",
       "        width: 200px;\n",
       "        \n",
       "        margin-right: 20px;;\n",
       "        \" onclick=\"window.open('https://observablehq.com/@oscar6echo/job-example-sliders?host=localhost&port=4001&path=/graphql&ssl=False&channel=channel-1', '_blank'); return false;\">Open in new tab</button>\n",
       "            <button style=\"\n",
       "        background-color:light-grey;\n",
       "        width: 200px;\n",
       "        \" onclick=\"\n",
       "            const el = document.createElement('textarea');\n",
       "            el.value = `https://observablehq.com/@oscar6echo/job-example-sliders?host=localhost&port=4001&path=/graphql&ssl=False&channel=channel-1`;\n",
       "            document.body.appendChild(el);\n",
       "            el.select();\n",
       "            document.execCommand('copy');\n",
       "            document.body.removeChild(el);\n",
       "        \">Copy url to clipboard </button>\n",
       "        </div>\n",
       "        "
      ],
      "text/plain": [
       "<IPython.core.display.HTML object>"
      ]
     },
     "metadata": {},
     "output_type": "display_data"
    }
   ],
   "source": [
    "s = Client(server_url='http://localhost:4001/graphql',\n",
    "           default_channel='channel-1',\n",
    "           password='mysecret',\n",
    "           pages=pages,         \n",
    "           debug=False)\n",
    "print(s.build_url('slider-2d'))\n",
    "s.show_btn_page('slider-2d')"
   ]
  },
  {
   "cell_type": "markdown",
   "metadata": {},
   "source": [
    "## Subscribe"
   ]
  },
  {
   "cell_type": "markdown",
   "metadata": {},
   "source": [
    "### DISPLAY\n",
    "In this demo (channel:name->value) are displayed upon udpate"
   ]
  },
  {
   "cell_type": "code",
   "execution_count": 5,
   "metadata": {},
   "outputs": [
    {
     "data": {
      "text/plain": [
       "received on channel-1: input-slider-1d --> {\"month\":9,\"day\":5} (19:10:20.49)\n",
       "received on channel-1: input-slider-1d --> {\"month\":9,\"day\":6} (19:10:21.23)\n",
       "received on channel-1: input-slider-1d --> {\"month\":9,\"day\":0} (19:10:21.99)\n",
       "received on channel-1: input-slider-1d --> {\"month\":9,\"day\":1} (19:10:22.74)\n",
       "received on channel-1: input-slider-1d --> {\"month\":9,\"day\":2} (19:10:23.49)\n",
       "received on channel-1: input-slider-1d --> {\"month\":9,\"day\":3} (19:10:24.26)\n",
       "received on channel-1: input-slider-1d --> {\"month\":9,\"day\":4} (19:10:25.02)\n",
       "received on channel-1: input-slider-1d --> {\"month\":9,\"day\":5} (19:10:25.74)\n",
       "received on channel-1: input-slider-1d --> {\"month\":9,\"day\":6} (19:10:26.50)\n",
       "received on channel-1: input-slider-1d --> {\"month\":9,\"day\":0} (19:10:27.27)"
      ]
     },
     "metadata": {},
     "output_type": "display_data"
    }
   ],
   "source": [
    "out = CellDisplay(name='subscribe-status', max_lines=10)\n",
    "\n",
    "def show(channel, name, value):\n",
    "    ts = dt.datetime.now().strftime('%H:%M:%S.%f')[:-4]\n",
    "    s = f'received on {channel}: {name} --> {value} ({ts})'\n",
    "    out.update(s, kind='text', append=True)"
   ]
  },
  {
   "cell_type": "code",
   "execution_count": 6,
   "metadata": {},
   "outputs": [
    {
     "data": {
      "text/plain": [
       "received on channel-1: input-slider-1d --> {\"month\":9,\"day\":5} (19:10:20.49)\n",
       "received on channel-1: input-slider-1d --> {\"month\":9,\"day\":6} (19:10:21.23)\n",
       "received on channel-1: input-slider-1d --> {\"month\":9,\"day\":0} (19:10:21.99)\n",
       "received on channel-1: input-slider-1d --> {\"month\":9,\"day\":1} (19:10:22.74)\n",
       "received on channel-1: input-slider-1d --> {\"month\":9,\"day\":2} (19:10:23.49)\n",
       "received on channel-1: input-slider-1d --> {\"month\":9,\"day\":3} (19:10:24.26)\n",
       "received on channel-1: input-slider-1d --> {\"month\":9,\"day\":4} (19:10:25.02)\n",
       "received on channel-1: input-slider-1d --> {\"month\":9,\"day\":5} (19:10:25.74)\n",
       "received on channel-1: input-slider-1d --> {\"month\":9,\"day\":6} (19:10:26.50)\n",
       "received on channel-1: input-slider-1d --> {\"month\":9,\"day\":0} (19:10:27.27)"
      ]
     },
     "metadata": {},
     "output_type": "display_data"
    }
   ],
   "source": [
    "out.display()"
   ]
  },
  {
   "cell_type": "markdown",
   "metadata": {},
   "source": [
    "### START\n",
    "If no channel is specified the Client.default_channel is used."
   ]
  },
  {
   "cell_type": "code",
   "execution_count": 7,
   "metadata": {},
   "outputs": [],
   "source": [
    "ref = s.subscribe(action=show)"
   ]
  },
  {
   "cell_type": "markdown",
   "metadata": {},
   "source": [
    "### STOP"
   ]
  },
  {
   "cell_type": "code",
   "execution_count": null,
   "metadata": {},
   "outputs": [],
   "source": [
    "s.subscribe_stop(ref)"
   ]
  },
  {
   "cell_type": "code",
   "execution_count": null,
   "metadata": {},
   "outputs": [],
   "source": [
    "out.clear()"
   ]
  },
  {
   "cell_type": "code",
   "execution_count": null,
   "metadata": {},
   "outputs": [],
   "source": []
  },
  {
   "cell_type": "markdown",
   "metadata": {},
   "source": [
    "## Store\n",
    "\n",
    "Client.store contains the latest values read"
   ]
  },
  {
   "cell_type": "code",
   "execution_count": 9,
   "metadata": {},
   "outputs": [
    {
     "data": {
      "text/plain": [
       "{'channel-1': {'input-slider-1d': '{\"month\":7,\"day\":1}',\n",
       "  'input-slider-2d': '{\"x\":136,\"y\":-33}'}}"
      ]
     },
     "execution_count": 9,
     "metadata": {},
     "output_type": "execute_result"
    }
   ],
   "source": [
    "s.store"
   ]
  },
  {
   "cell_type": "code",
   "execution_count": null,
   "metadata": {},
   "outputs": [],
   "source": []
  },
  {
   "cell_type": "code",
   "execution_count": null,
   "metadata": {},
   "outputs": [],
   "source": []
  },
  {
   "cell_type": "code",
   "execution_count": null,
   "metadata": {},
   "outputs": [],
   "source": []
  }
 ],
 "metadata": {
  "kernelspec": {
   "display_name": "work",
   "language": "python",
   "name": "work"
  },
  "language_info": {
   "codemirror_mode": {
    "name": "ipython",
    "version": 3
   },
   "file_extension": ".py",
   "mimetype": "text/x-python",
   "name": "python",
   "nbconvert_exporter": "python",
   "pygments_lexer": "ipython3",
   "version": "3.8.1"
  }
 },
 "nbformat": 4,
 "nbformat_minor": 4
}
