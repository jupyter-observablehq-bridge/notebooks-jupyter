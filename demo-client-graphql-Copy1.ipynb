{
 "cells": [
  {
   "cell_type": "code",
   "execution_count": 1,
   "metadata": {},
   "outputs": [],
   "source": [
    "%load_ext autoreload\n",
    "%autoreload 2"
   ]
  },
  {
   "cell_type": "code",
   "execution_count": null,
   "metadata": {},
   "outputs": [],
   "source": []
  },
  {
   "cell_type": "code",
   "execution_count": 2,
   "metadata": {},
   "outputs": [],
   "source": [
    "import random\n",
    "import datetime as dt\n",
    "\n",
    "from job_client_graphql import Client\n",
    "from jupyter_cell_display import CellDisplay"
   ]
  },
  {
   "cell_type": "markdown",
   "metadata": {},
   "source": [
    "### Launch\n",
    "+ **JOB**: Jupyter ObservableHQ bridge  \n",
    "    see. [https://jupyter-observablehq-bridge/job-server-js-graphql](TBD)\n",
    "+ **Simulator**: `yarn sim` Pushing random data to JOB  \n",
    "    See [https://jupyter-observablehq-bridge/job-server-js-graphql](TBD)\n",
    "\n"
   ]
  },
  {
   "cell_type": "code",
   "execution_count": 3,
   "metadata": {},
   "outputs": [],
   "source": [
    "s = Client(host='localhost',\n",
    "           port=4000,\n",
    "           path='/graphql',\n",
    "           channel='channel-1',\n",
    "           password='mysecret',\n",
    "           debug=False)"
   ]
  },
  {
   "cell_type": "code",
   "execution_count": null,
   "metadata": {},
   "outputs": [],
   "source": []
  },
  {
   "cell_type": "markdown",
   "metadata": {},
   "source": [
    "## Write"
   ]
  },
  {
   "cell_type": "code",
   "execution_count": 4,
   "metadata": {},
   "outputs": [],
   "source": [
    "def rnd_data():\n",
    "    return ''.join(random.choices('abcdefghijk', k=10)) + str(random.randint(0,1e6))"
   ]
  },
  {
   "cell_type": "code",
   "execution_count": 5,
   "metadata": {},
   "outputs": [
    {
     "data": {
      "text/plain": [
       "True"
      ]
     },
     "execution_count": 5,
     "metadata": {},
     "output_type": "execute_result"
    }
   ],
   "source": [
    "name = 'toto'\n",
    "value = rnd_data()\n",
    "s.write(name, value)"
   ]
  },
  {
   "cell_type": "code",
   "execution_count": 6,
   "metadata": {},
   "outputs": [
    {
     "data": {
      "text/plain": [
       "True"
      ]
     },
     "execution_count": 6,
     "metadata": {},
     "output_type": "execute_result"
    }
   ],
   "source": [
    "name = 'titi'\n",
    "value = rnd_data()\n",
    "s.write(name, value)"
   ]
  },
  {
   "cell_type": "code",
   "execution_count": 19,
   "metadata": {},
   "outputs": [
    {
     "data": {
      "text/plain": [
       "True"
      ]
     },
     "execution_count": 19,
     "metadata": {},
     "output_type": "execute_result"
    }
   ],
   "source": [
    "name = 'tata'\n",
    "value = rnd_data()\n",
    "s.write(name, value, expiry=10)"
   ]
  },
  {
   "cell_type": "markdown",
   "metadata": {},
   "source": [
    "## Publish"
   ]
  },
  {
   "cell_type": "code",
   "execution_count": 29,
   "metadata": {},
   "outputs": [
    {
     "data": {
      "text/plain": [
       "True"
      ]
     },
     "execution_count": 29,
     "metadata": {},
     "output_type": "execute_result"
    }
   ],
   "source": [
    "name = 'TATA'\n",
    "value = rnd_data()\n",
    "s.publish(name, value)"
   ]
  },
  {
   "cell_type": "markdown",
   "metadata": {},
   "source": [
    "## Publish & Write"
   ]
  },
  {
   "cell_type": "code",
   "execution_count": 31,
   "metadata": {},
   "outputs": [
    {
     "data": {
      "text/plain": [
       "True"
      ]
     },
     "execution_count": 31,
     "metadata": {},
     "output_type": "execute_result"
    }
   ],
   "source": [
    "name = 'TATAAAA'\n",
    "value = rnd_data()\n",
    "s.publish_write(name, value, expiry=10)"
   ]
  },
  {
   "cell_type": "markdown",
   "metadata": {},
   "source": [
    "## Read"
   ]
  },
  {
   "cell_type": "code",
   "execution_count": 9,
   "metadata": {},
   "outputs": [
    {
     "data": {
      "text/plain": [
       "111"
      ]
     },
     "execution_count": 9,
     "metadata": {},
     "output_type": "execute_result"
    }
   ],
   "source": [
    "name = 'toto'\n",
    "s.read(name)"
   ]
  },
  {
   "cell_type": "code",
   "execution_count": 10,
   "metadata": {},
   "outputs": [
    {
     "data": {
      "text/plain": [
       "'lf7yvI3N63'"
      ]
     },
     "execution_count": 10,
     "metadata": {},
     "output_type": "execute_result"
    }
   ],
   "source": [
    "name = 'titi'\n",
    "s.read(name)"
   ]
  },
  {
   "cell_type": "code",
   "execution_count": null,
   "metadata": {},
   "outputs": [],
   "source": []
  },
  {
   "cell_type": "markdown",
   "metadata": {},
   "source": [
    "## Read Histo"
   ]
  },
  {
   "cell_type": "code",
   "execution_count": 11,
   "metadata": {},
   "outputs": [
    {
     "data": {
      "text/plain": [
       "[{'value': 108, 'timestamp': datetime.datetime(2020, 5, 5, 12, 55, 48, 26000)},\n",
       " {'value': 110, 'timestamp': datetime.datetime(2020, 5, 5, 12, 55, 46, 23000)},\n",
       " {'value': 125, 'timestamp': datetime.datetime(2020, 5, 5, 12, 55, 45, 23000)},\n",
       " {'value': 111, 'timestamp': datetime.datetime(2020, 5, 5, 12, 55, 43, 19000)}]"
      ]
     },
     "execution_count": 11,
     "metadata": {},
     "output_type": "execute_result"
    }
   ],
   "source": [
    "name = 'toto'\n",
    "s.read_histo(name, 4, timestamp=True)"
   ]
  },
  {
   "cell_type": "code",
   "execution_count": 12,
   "metadata": {},
   "outputs": [
    {
     "data": {
      "text/plain": [
       "['LtReJIsDrU',\n",
       " {'a': 127,\n",
       "  'b': 188.47848652272802,\n",
       "  'c': '97exkK1TOl',\n",
       "  'd': {'aa': 156, 'bb': 154.79656696968203, 'cc': 'BgeD0BXQSr'}},\n",
       " 'lf7yvI3N63',\n",
       " 178.97866497896746]"
      ]
     },
     "execution_count": 12,
     "metadata": {},
     "output_type": "execute_result"
    }
   ],
   "source": [
    "name = 'titi'\n",
    "s.read_histo(name, 4, timestamp=False)"
   ]
  },
  {
   "cell_type": "code",
   "execution_count": null,
   "metadata": {},
   "outputs": [],
   "source": []
  },
  {
   "cell_type": "markdown",
   "metadata": {},
   "source": [
    "## Store"
   ]
  },
  {
   "cell_type": "code",
   "execution_count": 13,
   "metadata": {},
   "outputs": [
    {
     "data": {
      "text/plain": [
       "{'channel-1': {'toto': 111, 'titi': 'lf7yvI3N63'}}"
      ]
     },
     "execution_count": 13,
     "metadata": {},
     "output_type": "execute_result"
    }
   ],
   "source": [
    "s.store"
   ]
  },
  {
   "cell_type": "code",
   "execution_count": 35,
   "metadata": {},
   "outputs": [
    {
     "data": {
      "text/plain": [
       "[('channel-1', 'toto', '\"7cmD8SxQYZ\"'),\n",
       " ('channel-1',\n",
       "  'titi',\n",
       "  '{\"a\":170,\"b\":156.7195408605987,\"c\":\"S6zaoxrvCH\",\"d\":{\"aa\":195,\"bb\":183.26344793087105,\"cc\":\"QXBfGfcHVt\"}}'),\n",
       " ('channel-1', 'titi', '\"H4oWlrzLmg\"')]"
      ]
     },
     "execution_count": 35,
     "metadata": {},
     "output_type": "execute_result"
    }
   ],
   "source": [
    "s.update[:3]"
   ]
  },
  {
   "cell_type": "code",
   "execution_count": null,
   "metadata": {},
   "outputs": [],
   "source": []
  },
  {
   "cell_type": "markdown",
   "metadata": {},
   "source": [
    "## Subscribe"
   ]
  },
  {
   "cell_type": "markdown",
   "metadata": {},
   "source": [
    "### DISPLAY"
   ]
  },
  {
   "cell_type": "code",
   "execution_count": 25,
   "metadata": {},
   "outputs": [
    {
     "data": {
      "text/plain": [
       "received on channel-1: titi --> {\"a\":172,\"b\":105.78997636304676,\"c\":\"UybTayVFRM\",\"d\":{\"aa\":145,\"bb\":120.02523975266502,\"cc\":\"QEu1Z65A9I\"}} (15:06:22.76)\n",
       "received on channel-1: toto --> {\"a\":149,\"b\":195.22463663547126,\"c\":\"76hVOJSxtD\",\"d\":{\"aa\":167,\"bb\":141.1339964733105,\"cc\":\"ejDMskPTDs\"}} (15:06:23.76)\n",
       "received on channel-1: titi --> \"PN7O6h2cGs\" (15:06:24.76)\n",
       "received on channel-1: titi --> 161 (15:06:25.76)\n",
       "received on channel-1: toto --> \"RoLyQMZFqo\" (15:06:26.76)\n",
       "received on channel-1: toto --> 107.90278526043733 (15:06:27.77)\n",
       "received on channel-1: toto --> 175.72801406352087 (15:06:28.77)\n",
       "received on channel-1: toto --> 128.0164359401844 (15:06:29.77)"
      ]
     },
     "metadata": {},
     "output_type": "display_data"
    }
   ],
   "source": [
    "out = CellDisplay(name='subscribe-status', max_lines=8)\n",
    "show_lines = []\n",
    "\n",
    "def show(channel, name, value):\n",
    "    ts = dt.datetime.now().strftime('%H:%M:%S.%f')[:-4]\n",
    "    s = f'received on {channel}: {name} --> {value} ({ts})'\n",
    "    out.update(s, kind='text', append=True)"
   ]
  },
  {
   "cell_type": "code",
   "execution_count": 26,
   "metadata": {},
   "outputs": [
    {
     "data": {
      "text/plain": [
       "received on channel-1: titi --> {\"a\":172,\"b\":105.78997636304676,\"c\":\"UybTayVFRM\",\"d\":{\"aa\":145,\"bb\":120.02523975266502,\"cc\":\"QEu1Z65A9I\"}} (15:06:22.76)\n",
       "received on channel-1: toto --> {\"a\":149,\"b\":195.22463663547126,\"c\":\"76hVOJSxtD\",\"d\":{\"aa\":167,\"bb\":141.1339964733105,\"cc\":\"ejDMskPTDs\"}} (15:06:23.76)\n",
       "received on channel-1: titi --> \"PN7O6h2cGs\" (15:06:24.76)\n",
       "received on channel-1: titi --> 161 (15:06:25.76)\n",
       "received on channel-1: toto --> \"RoLyQMZFqo\" (15:06:26.76)\n",
       "received on channel-1: toto --> 107.90278526043733 (15:06:27.77)\n",
       "received on channel-1: toto --> 175.72801406352087 (15:06:28.77)\n",
       "received on channel-1: toto --> 128.0164359401844 (15:06:29.77)"
      ]
     },
     "metadata": {},
     "output_type": "display_data"
    }
   ],
   "source": [
    "out.display()"
   ]
  },
  {
   "cell_type": "code",
   "execution_count": 18,
   "metadata": {},
   "outputs": [],
   "source": [
    "out.clear()"
   ]
  },
  {
   "cell_type": "markdown",
   "metadata": {},
   "source": [
    "### START"
   ]
  },
  {
   "cell_type": "code",
   "execution_count": 27,
   "metadata": {},
   "outputs": [],
   "source": [
    "ref = s.subscribe(action=show)"
   ]
  },
  {
   "cell_type": "markdown",
   "metadata": {},
   "source": [
    "### STOP"
   ]
  },
  {
   "cell_type": "code",
   "execution_count": 32,
   "metadata": {},
   "outputs": [
    {
     "name": "stdout",
     "output_type": "stream",
     "text": [
      "subscribe ref 1v5CCC stopped\n"
     ]
    }
   ],
   "source": [
    "s.subscribe_stop(ref)"
   ]
  },
  {
   "cell_type": "code",
   "execution_count": null,
   "metadata": {},
   "outputs": [],
   "source": []
  },
  {
   "cell_type": "code",
   "execution_count": null,
   "metadata": {},
   "outputs": [],
   "source": []
  },
  {
   "cell_type": "markdown",
   "metadata": {},
   "source": [
    "## --- Debug"
   ]
  },
  {
   "cell_type": "code",
   "execution_count": 34,
   "metadata": {},
   "outputs": [],
   "source": [
    "# outd = Output(name='debug')\n",
    "# outd.display()"
   ]
  },
  {
   "cell_type": "code",
   "execution_count": 35,
   "metadata": {},
   "outputs": [],
   "source": [
    "# from time import sleep\n",
    "\n",
    "# for t in range(3):\n",
    "#     toshow = s.update[-10:][::-1]\n",
    "#     print(toshow)\n",
    "#     text = '\\n'.join(['\\t'.join([str(f) for f in e]) for e in toshow])\n",
    "#     outd.update(text, kind='text', append=True)\n",
    "#     sleep(1)"
   ]
  },
  {
   "cell_type": "code",
   "execution_count": null,
   "metadata": {},
   "outputs": [],
   "source": []
  },
  {
   "cell_type": "code",
   "execution_count": null,
   "metadata": {},
   "outputs": [],
   "source": []
  }
 ],
 "metadata": {
  "kernelspec": {
   "display_name": "work",
   "language": "python",
   "name": "work"
  },
  "language_info": {
   "codemirror_mode": {
    "name": "ipython",
    "version": 3
   },
   "file_extension": ".py",
   "mimetype": "text/x-python",
   "name": "python",
   "nbconvert_exporter": "python",
   "pygments_lexer": "ipython3",
   "version": "3.8.1"
  }
 },
 "nbformat": 4,
 "nbformat_minor": 4
}
